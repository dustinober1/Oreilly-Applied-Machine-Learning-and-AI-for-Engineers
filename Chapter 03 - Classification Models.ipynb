{
  "nbformat": 4,
  "nbformat_minor": 0,
  "metadata": {
    "colab": {
      "provenance": [],
      "authorship_tag": "ABX9TyPqDkHneeLEKDP94ZovP7Ua",
      "include_colab_link": true
    },
    "kernelspec": {
      "name": "python3",
      "display_name": "Python 3"
    },
    "language_info": {
      "name": "python"
    }
  },
  "cells": [
    {
      "cell_type": "markdown",
      "metadata": {
        "id": "view-in-github",
        "colab_type": "text"
      },
      "source": [
        "<a href=\"https://colab.research.google.com/github/dustinober1/Oreilly-Applied-Machine-Learning-and-AI-for-Engineers/blob/main/Chapter%2003%20-%20Classification%20Models.ipynb\" target=\"_parent\"><img src=\"https://colab.research.google.com/assets/colab-badge.svg\" alt=\"Open In Colab\"/></a>"
      ]
    },
    {
      "cell_type": "markdown",
      "source": [
        "# Categorical Data\n",
        "\n",
        "These two lines of code import the pandas library and LabelEncoder class from the sklearn.preprocessing module.\n",
        "\n",
        "pandas is a popular data manipulation library that provides data structures for efficiently storing and manipulating data in tabular form, as well as many functions for data cleaning, analysis, and visualization.\n",
        "\n",
        "LabelEncoder is a class that can be used to encode categorical features as integers. It assigns a unique integer to each distinct category in the feature, allowing it to be used as input to machine learning models that require numerical data."
      ],
      "metadata": {
        "id": "jRNa34MoXnfu"
      }
    },
    {
      "cell_type": "code",
      "execution_count": 24,
      "metadata": {
        "id": "WngzA12WXH8V"
      },
      "outputs": [],
      "source": [
        "import pandas as pd\n",
        "import numpy as np \n",
        "from sklearn.preprocessing import LabelEncoder"
      ]
    },
    {
      "cell_type": "markdown",
      "source": [
        "This code creates a pandas DataFrame df with the specified columns \"Length\" and \"Color\", and the given data.\n",
        "\n",
        "The data is a list of lists, where each inner list represents a row in the DataFrame. The first element of each inner list is the \"Length\" value for that row, and the second element is the \"Color\" value.\n",
        "\n",
        "The pd.DataFrame() function converts this data into a pandas DataFrame object, with the specified column names.\n"
      ],
      "metadata": {
        "id": "xw09R8seYgTU"
      }
    },
    {
      "cell_type": "code",
      "source": [
        "data = [[10, \"red\"], [20, \"blue\"], [12, \"red\"], [16, \"green\"], [22, \"blue\"]]\n",
        "df = pd.DataFrame(data, columns=[\"Length\", \"Color\"])"
      ],
      "metadata": {
        "id": "pi1db-HAXxIy"
      },
      "execution_count": 2,
      "outputs": []
    },
    {
      "cell_type": "markdown",
      "source": [
        "This code creates a LabelEncoder object encoder, and uses it to encode the \"Color\" column of the pandas DataFrame df.\n",
        "\n",
        "LabelEncoder is a class from the sklearn.preprocessing module that can be used to encode categorical features as integers. It assigns a unique integer to each distinct category in the feature.\n",
        "\n",
        "encoder.fit_transform(df[\"Color\"]) fits the encoder to the \"Color\" column of df, and returns the encoded values as a numpy array. The encoded values replace the original \"Color\" column in df.\n",
        "\n",
        "df.head() is a method of the pandas DataFrame that returns the first 5 rows of the DataFrame. It is used here to display the updated DataFrame after encoding."
      ],
      "metadata": {
        "id": "s4mWRR5WYszy"
      }
    },
    {
      "cell_type": "code",
      "source": [
        "encoder = LabelEncoder()\n",
        "df[\"Color\"] = encoder.fit_transform(df[\"Color\"])\n",
        "df.head()"
      ],
      "metadata": {
        "colab": {
          "base_uri": "https://localhost:8080/",
          "height": 206
        },
        "id": "cYUo7xUrYIi6",
        "outputId": "2d165caa-a15f-4a91-9150-b1249d6b655c"
      },
      "execution_count": 3,
      "outputs": [
        {
          "output_type": "execute_result",
          "data": {
            "text/plain": [
              "   Length  Color\n",
              "0      10      2\n",
              "1      20      0\n",
              "2      12      2\n",
              "3      16      1\n",
              "4      22      0"
            ],
            "text/html": [
              "\n",
              "  <div id=\"df-b83338e1-8ddc-4f56-8f4d-38a9c98e6b55\">\n",
              "    <div class=\"colab-df-container\">\n",
              "      <div>\n",
              "<style scoped>\n",
              "    .dataframe tbody tr th:only-of-type {\n",
              "        vertical-align: middle;\n",
              "    }\n",
              "\n",
              "    .dataframe tbody tr th {\n",
              "        vertical-align: top;\n",
              "    }\n",
              "\n",
              "    .dataframe thead th {\n",
              "        text-align: right;\n",
              "    }\n",
              "</style>\n",
              "<table border=\"1\" class=\"dataframe\">\n",
              "  <thead>\n",
              "    <tr style=\"text-align: right;\">\n",
              "      <th></th>\n",
              "      <th>Length</th>\n",
              "      <th>Color</th>\n",
              "    </tr>\n",
              "  </thead>\n",
              "  <tbody>\n",
              "    <tr>\n",
              "      <th>0</th>\n",
              "      <td>10</td>\n",
              "      <td>2</td>\n",
              "    </tr>\n",
              "    <tr>\n",
              "      <th>1</th>\n",
              "      <td>20</td>\n",
              "      <td>0</td>\n",
              "    </tr>\n",
              "    <tr>\n",
              "      <th>2</th>\n",
              "      <td>12</td>\n",
              "      <td>2</td>\n",
              "    </tr>\n",
              "    <tr>\n",
              "      <th>3</th>\n",
              "      <td>16</td>\n",
              "      <td>1</td>\n",
              "    </tr>\n",
              "    <tr>\n",
              "      <th>4</th>\n",
              "      <td>22</td>\n",
              "      <td>0</td>\n",
              "    </tr>\n",
              "  </tbody>\n",
              "</table>\n",
              "</div>\n",
              "      <button class=\"colab-df-convert\" onclick=\"convertToInteractive('df-b83338e1-8ddc-4f56-8f4d-38a9c98e6b55')\"\n",
              "              title=\"Convert this dataframe to an interactive table.\"\n",
              "              style=\"display:none;\">\n",
              "        \n",
              "  <svg xmlns=\"http://www.w3.org/2000/svg\" height=\"24px\"viewBox=\"0 0 24 24\"\n",
              "       width=\"24px\">\n",
              "    <path d=\"M0 0h24v24H0V0z\" fill=\"none\"/>\n",
              "    <path d=\"M18.56 5.44l.94 2.06.94-2.06 2.06-.94-2.06-.94-.94-2.06-.94 2.06-2.06.94zm-11 1L8.5 8.5l.94-2.06 2.06-.94-2.06-.94L8.5 2.5l-.94 2.06-2.06.94zm10 10l.94 2.06.94-2.06 2.06-.94-2.06-.94-.94-2.06-.94 2.06-2.06.94z\"/><path d=\"M17.41 7.96l-1.37-1.37c-.4-.4-.92-.59-1.43-.59-.52 0-1.04.2-1.43.59L10.3 9.45l-7.72 7.72c-.78.78-.78 2.05 0 2.83L4 21.41c.39.39.9.59 1.41.59.51 0 1.02-.2 1.41-.59l7.78-7.78 2.81-2.81c.8-.78.8-2.07 0-2.86zM5.41 20L4 18.59l7.72-7.72 1.47 1.35L5.41 20z\"/>\n",
              "  </svg>\n",
              "      </button>\n",
              "      \n",
              "  <style>\n",
              "    .colab-df-container {\n",
              "      display:flex;\n",
              "      flex-wrap:wrap;\n",
              "      gap: 12px;\n",
              "    }\n",
              "\n",
              "    .colab-df-convert {\n",
              "      background-color: #E8F0FE;\n",
              "      border: none;\n",
              "      border-radius: 50%;\n",
              "      cursor: pointer;\n",
              "      display: none;\n",
              "      fill: #1967D2;\n",
              "      height: 32px;\n",
              "      padding: 0 0 0 0;\n",
              "      width: 32px;\n",
              "    }\n",
              "\n",
              "    .colab-df-convert:hover {\n",
              "      background-color: #E2EBFA;\n",
              "      box-shadow: 0px 1px 2px rgba(60, 64, 67, 0.3), 0px 1px 3px 1px rgba(60, 64, 67, 0.15);\n",
              "      fill: #174EA6;\n",
              "    }\n",
              "\n",
              "    [theme=dark] .colab-df-convert {\n",
              "      background-color: #3B4455;\n",
              "      fill: #D2E3FC;\n",
              "    }\n",
              "\n",
              "    [theme=dark] .colab-df-convert:hover {\n",
              "      background-color: #434B5C;\n",
              "      box-shadow: 0px 1px 3px 1px rgba(0, 0, 0, 0.15);\n",
              "      filter: drop-shadow(0px 1px 2px rgba(0, 0, 0, 0.3));\n",
              "      fill: #FFFFFF;\n",
              "    }\n",
              "  </style>\n",
              "\n",
              "      <script>\n",
              "        const buttonEl =\n",
              "          document.querySelector('#df-b83338e1-8ddc-4f56-8f4d-38a9c98e6b55 button.colab-df-convert');\n",
              "        buttonEl.style.display =\n",
              "          google.colab.kernel.accessAllowed ? 'block' : 'none';\n",
              "\n",
              "        async function convertToInteractive(key) {\n",
              "          const element = document.querySelector('#df-b83338e1-8ddc-4f56-8f4d-38a9c98e6b55');\n",
              "          const dataTable =\n",
              "            await google.colab.kernel.invokeFunction('convertToInteractive',\n",
              "                                                     [key], {});\n",
              "          if (!dataTable) return;\n",
              "\n",
              "          const docLinkHtml = 'Like what you see? Visit the ' +\n",
              "            '<a target=\"_blank\" href=https://colab.research.google.com/notebooks/data_table.ipynb>data table notebook</a>'\n",
              "            + ' to learn more about interactive tables.';\n",
              "          element.innerHTML = '';\n",
              "          dataTable['output_type'] = 'display_data';\n",
              "          await google.colab.output.renderOutput(dataTable, element);\n",
              "          const docLink = document.createElement('div');\n",
              "          docLink.innerHTML = docLinkHtml;\n",
              "          element.appendChild(docLink);\n",
              "        }\n",
              "      </script>\n",
              "    </div>\n",
              "  </div>\n",
              "  "
            ]
          },
          "metadata": {},
          "execution_count": 3
        }
      ]
    },
    {
      "cell_type": "markdown",
      "source": [
        "This code uses the get_dummies() function from the pandas library to create a new set of columns in the DataFrame for each unique category in the \"Color\" column.\n",
        "\n",
        "get_dummies() creates new columns with binary values (0 or 1) for each unique category in the specified column. It assigns a value of 1 in the column for each row that has the corresponding category, and a value of 0 in all other columns.\n",
        "\n",
        "The resulting DataFrame has a separate column for each category in the original \"Color\" column, with binary values indicating the presence or absence of that category in each row."
      ],
      "metadata": {
        "id": "GcQMmcyoZNq0"
      }
    },
    {
      "cell_type": "code",
      "source": [
        "data = [[10, \"red\"], [20, \"blue\"], [12, \"red\"], [16, \"green\"], [22, \"blue\"]]\n",
        "df = pd.DataFrame(data, columns=[\"Length\", \"Color\"])\n",
        "df = pd.get_dummies(df, columns=[\"Color\"])\n",
        "df.head()"
      ],
      "metadata": {
        "colab": {
          "base_uri": "https://localhost:8080/",
          "height": 206
        },
        "id": "qY9td2ocYTx2",
        "outputId": "4487c2b5-69e8-45c9-f897-3d2cde6f9aea"
      },
      "execution_count": 4,
      "outputs": [
        {
          "output_type": "execute_result",
          "data": {
            "text/plain": [
              "   Length  Color_blue  Color_green  Color_red\n",
              "0      10           0            0          1\n",
              "1      20           1            0          0\n",
              "2      12           0            0          1\n",
              "3      16           0            1          0\n",
              "4      22           1            0          0"
            ],
            "text/html": [
              "\n",
              "  <div id=\"df-64cf0694-bf90-4128-bafc-49ecab542f93\">\n",
              "    <div class=\"colab-df-container\">\n",
              "      <div>\n",
              "<style scoped>\n",
              "    .dataframe tbody tr th:only-of-type {\n",
              "        vertical-align: middle;\n",
              "    }\n",
              "\n",
              "    .dataframe tbody tr th {\n",
              "        vertical-align: top;\n",
              "    }\n",
              "\n",
              "    .dataframe thead th {\n",
              "        text-align: right;\n",
              "    }\n",
              "</style>\n",
              "<table border=\"1\" class=\"dataframe\">\n",
              "  <thead>\n",
              "    <tr style=\"text-align: right;\">\n",
              "      <th></th>\n",
              "      <th>Length</th>\n",
              "      <th>Color_blue</th>\n",
              "      <th>Color_green</th>\n",
              "      <th>Color_red</th>\n",
              "    </tr>\n",
              "  </thead>\n",
              "  <tbody>\n",
              "    <tr>\n",
              "      <th>0</th>\n",
              "      <td>10</td>\n",
              "      <td>0</td>\n",
              "      <td>0</td>\n",
              "      <td>1</td>\n",
              "    </tr>\n",
              "    <tr>\n",
              "      <th>1</th>\n",
              "      <td>20</td>\n",
              "      <td>1</td>\n",
              "      <td>0</td>\n",
              "      <td>0</td>\n",
              "    </tr>\n",
              "    <tr>\n",
              "      <th>2</th>\n",
              "      <td>12</td>\n",
              "      <td>0</td>\n",
              "      <td>0</td>\n",
              "      <td>1</td>\n",
              "    </tr>\n",
              "    <tr>\n",
              "      <th>3</th>\n",
              "      <td>16</td>\n",
              "      <td>0</td>\n",
              "      <td>1</td>\n",
              "      <td>0</td>\n",
              "    </tr>\n",
              "    <tr>\n",
              "      <th>4</th>\n",
              "      <td>22</td>\n",
              "      <td>1</td>\n",
              "      <td>0</td>\n",
              "      <td>0</td>\n",
              "    </tr>\n",
              "  </tbody>\n",
              "</table>\n",
              "</div>\n",
              "      <button class=\"colab-df-convert\" onclick=\"convertToInteractive('df-64cf0694-bf90-4128-bafc-49ecab542f93')\"\n",
              "              title=\"Convert this dataframe to an interactive table.\"\n",
              "              style=\"display:none;\">\n",
              "        \n",
              "  <svg xmlns=\"http://www.w3.org/2000/svg\" height=\"24px\"viewBox=\"0 0 24 24\"\n",
              "       width=\"24px\">\n",
              "    <path d=\"M0 0h24v24H0V0z\" fill=\"none\"/>\n",
              "    <path d=\"M18.56 5.44l.94 2.06.94-2.06 2.06-.94-2.06-.94-.94-2.06-.94 2.06-2.06.94zm-11 1L8.5 8.5l.94-2.06 2.06-.94-2.06-.94L8.5 2.5l-.94 2.06-2.06.94zm10 10l.94 2.06.94-2.06 2.06-.94-2.06-.94-.94-2.06-.94 2.06-2.06.94z\"/><path d=\"M17.41 7.96l-1.37-1.37c-.4-.4-.92-.59-1.43-.59-.52 0-1.04.2-1.43.59L10.3 9.45l-7.72 7.72c-.78.78-.78 2.05 0 2.83L4 21.41c.39.39.9.59 1.41.59.51 0 1.02-.2 1.41-.59l7.78-7.78 2.81-2.81c.8-.78.8-2.07 0-2.86zM5.41 20L4 18.59l7.72-7.72 1.47 1.35L5.41 20z\"/>\n",
              "  </svg>\n",
              "      </button>\n",
              "      \n",
              "  <style>\n",
              "    .colab-df-container {\n",
              "      display:flex;\n",
              "      flex-wrap:wrap;\n",
              "      gap: 12px;\n",
              "    }\n",
              "\n",
              "    .colab-df-convert {\n",
              "      background-color: #E8F0FE;\n",
              "      border: none;\n",
              "      border-radius: 50%;\n",
              "      cursor: pointer;\n",
              "      display: none;\n",
              "      fill: #1967D2;\n",
              "      height: 32px;\n",
              "      padding: 0 0 0 0;\n",
              "      width: 32px;\n",
              "    }\n",
              "\n",
              "    .colab-df-convert:hover {\n",
              "      background-color: #E2EBFA;\n",
              "      box-shadow: 0px 1px 2px rgba(60, 64, 67, 0.3), 0px 1px 3px 1px rgba(60, 64, 67, 0.15);\n",
              "      fill: #174EA6;\n",
              "    }\n",
              "\n",
              "    [theme=dark] .colab-df-convert {\n",
              "      background-color: #3B4455;\n",
              "      fill: #D2E3FC;\n",
              "    }\n",
              "\n",
              "    [theme=dark] .colab-df-convert:hover {\n",
              "      background-color: #434B5C;\n",
              "      box-shadow: 0px 1px 3px 1px rgba(0, 0, 0, 0.15);\n",
              "      filter: drop-shadow(0px 1px 2px rgba(0, 0, 0, 0.3));\n",
              "      fill: #FFFFFF;\n",
              "    }\n",
              "  </style>\n",
              "\n",
              "      <script>\n",
              "        const buttonEl =\n",
              "          document.querySelector('#df-64cf0694-bf90-4128-bafc-49ecab542f93 button.colab-df-convert');\n",
              "        buttonEl.style.display =\n",
              "          google.colab.kernel.accessAllowed ? 'block' : 'none';\n",
              "\n",
              "        async function convertToInteractive(key) {\n",
              "          const element = document.querySelector('#df-64cf0694-bf90-4128-bafc-49ecab542f93');\n",
              "          const dataTable =\n",
              "            await google.colab.kernel.invokeFunction('convertToInteractive',\n",
              "                                                     [key], {});\n",
              "          if (!dataTable) return;\n",
              "\n",
              "          const docLinkHtml = 'Like what you see? Visit the ' +\n",
              "            '<a target=\"_blank\" href=https://colab.research.google.com/notebooks/data_table.ipynb>data table notebook</a>'\n",
              "            + ' to learn more about interactive tables.';\n",
              "          element.innerHTML = '';\n",
              "          dataTable['output_type'] = 'display_data';\n",
              "          await google.colab.output.renderOutput(dataTable, element);\n",
              "          const docLink = document.createElement('div');\n",
              "          docLink.innerHTML = docLinkHtml;\n",
              "          element.appendChild(docLink);\n",
              "        }\n",
              "      </script>\n",
              "    </div>\n",
              "  </div>\n",
              "  "
            ]
          },
          "metadata": {},
          "execution_count": 4
        }
      ]
    },
    {
      "cell_type": "markdown",
      "source": [
        "# Classifying Passengers Who Sailed on the Titanic\n",
        "\n",
        "This code reads in a csv file located at the given url \"https://raw.githubusercontent.com/jeffprosise/Practical-Machine-Learning/main/Chapter%203/Data/titanic.csv\" and creates a pandas DataFrame df containing the data.\n",
        "\n",
        "pd.read_csv() is a function from the pandas library that reads a csv file and returns a DataFrame. The argument to read_csv() is the path or url to the csv file.\n",
        "\n",
        "df.head() is a method of the pandas DataFrame that returns the first 5 rows of the DataFrame. It is used here to display the top of the DataFrame.\n",
        "\n",
        "So, the resulting DataFrame shows the first 5 rows of the Titanic dataset, which contains information about the passengers who were aboard the Titanic when it sank, including their age, sex, ticket class, and survival status. The columns in the DataFrame include \"PassengerId\", \"Survived\", \"Pclass\", \"Name\", \"Sex\", \"Age\", \"SibSp\", \"Parch\", \"Ticket\", \"Fare\", \"Cabin\", and \"Embarked\"."
      ],
      "metadata": {
        "id": "odj48koeZOvS"
      }
    },
    {
      "cell_type": "code",
      "source": [
        "df = pd.read_csv(\"https://raw.githubusercontent.com/jeffprosise/Practical-Machine-Learning/main/Chapter%203/Data/titanic.csv\")\n",
        "df.head()"
      ],
      "metadata": {
        "colab": {
          "base_uri": "https://localhost:8080/",
          "height": 548
        },
        "id": "-fGMXGayZECB",
        "outputId": "84b045d9-5ee5-4e9e-b043-148e7aef4f85"
      },
      "execution_count": 5,
      "outputs": [
        {
          "output_type": "execute_result",
          "data": {
            "text/plain": [
              "   PassengerId  Survived  Pclass  \\\n",
              "0            1         0       3   \n",
              "1            2         1       1   \n",
              "2            3         1       3   \n",
              "3            4         1       1   \n",
              "4            5         0       3   \n",
              "\n",
              "                                                Name     Sex   Age  SibSp  \\\n",
              "0                            Braund, Mr. Owen Harris    male  22.0      1   \n",
              "1  Cumings, Mrs. John Bradley (Florence Briggs Th...  female  38.0      1   \n",
              "2                             Heikkinen, Miss. Laina  female  26.0      0   \n",
              "3       Futrelle, Mrs. Jacques Heath (Lily May Peel)  female  35.0      1   \n",
              "4                           Allen, Mr. William Henry    male  35.0      0   \n",
              "\n",
              "   Parch            Ticket     Fare Cabin Embarked  \n",
              "0      0         A/5 21171   7.2500   NaN        S  \n",
              "1      0          PC 17599  71.2833   C85        C  \n",
              "2      0  STON/O2. 3101282   7.9250   NaN        S  \n",
              "3      0            113803  53.1000  C123        S  \n",
              "4      0            373450   8.0500   NaN        S  "
            ],
            "text/html": [
              "\n",
              "  <div id=\"df-62716e80-687f-4d3e-b731-792f7b443d2c\">\n",
              "    <div class=\"colab-df-container\">\n",
              "      <div>\n",
              "<style scoped>\n",
              "    .dataframe tbody tr th:only-of-type {\n",
              "        vertical-align: middle;\n",
              "    }\n",
              "\n",
              "    .dataframe tbody tr th {\n",
              "        vertical-align: top;\n",
              "    }\n",
              "\n",
              "    .dataframe thead th {\n",
              "        text-align: right;\n",
              "    }\n",
              "</style>\n",
              "<table border=\"1\" class=\"dataframe\">\n",
              "  <thead>\n",
              "    <tr style=\"text-align: right;\">\n",
              "      <th></th>\n",
              "      <th>PassengerId</th>\n",
              "      <th>Survived</th>\n",
              "      <th>Pclass</th>\n",
              "      <th>Name</th>\n",
              "      <th>Sex</th>\n",
              "      <th>Age</th>\n",
              "      <th>SibSp</th>\n",
              "      <th>Parch</th>\n",
              "      <th>Ticket</th>\n",
              "      <th>Fare</th>\n",
              "      <th>Cabin</th>\n",
              "      <th>Embarked</th>\n",
              "    </tr>\n",
              "  </thead>\n",
              "  <tbody>\n",
              "    <tr>\n",
              "      <th>0</th>\n",
              "      <td>1</td>\n",
              "      <td>0</td>\n",
              "      <td>3</td>\n",
              "      <td>Braund, Mr. Owen Harris</td>\n",
              "      <td>male</td>\n",
              "      <td>22.0</td>\n",
              "      <td>1</td>\n",
              "      <td>0</td>\n",
              "      <td>A/5 21171</td>\n",
              "      <td>7.2500</td>\n",
              "      <td>NaN</td>\n",
              "      <td>S</td>\n",
              "    </tr>\n",
              "    <tr>\n",
              "      <th>1</th>\n",
              "      <td>2</td>\n",
              "      <td>1</td>\n",
              "      <td>1</td>\n",
              "      <td>Cumings, Mrs. John Bradley (Florence Briggs Th...</td>\n",
              "      <td>female</td>\n",
              "      <td>38.0</td>\n",
              "      <td>1</td>\n",
              "      <td>0</td>\n",
              "      <td>PC 17599</td>\n",
              "      <td>71.2833</td>\n",
              "      <td>C85</td>\n",
              "      <td>C</td>\n",
              "    </tr>\n",
              "    <tr>\n",
              "      <th>2</th>\n",
              "      <td>3</td>\n",
              "      <td>1</td>\n",
              "      <td>3</td>\n",
              "      <td>Heikkinen, Miss. Laina</td>\n",
              "      <td>female</td>\n",
              "      <td>26.0</td>\n",
              "      <td>0</td>\n",
              "      <td>0</td>\n",
              "      <td>STON/O2. 3101282</td>\n",
              "      <td>7.9250</td>\n",
              "      <td>NaN</td>\n",
              "      <td>S</td>\n",
              "    </tr>\n",
              "    <tr>\n",
              "      <th>3</th>\n",
              "      <td>4</td>\n",
              "      <td>1</td>\n",
              "      <td>1</td>\n",
              "      <td>Futrelle, Mrs. Jacques Heath (Lily May Peel)</td>\n",
              "      <td>female</td>\n",
              "      <td>35.0</td>\n",
              "      <td>1</td>\n",
              "      <td>0</td>\n",
              "      <td>113803</td>\n",
              "      <td>53.1000</td>\n",
              "      <td>C123</td>\n",
              "      <td>S</td>\n",
              "    </tr>\n",
              "    <tr>\n",
              "      <th>4</th>\n",
              "      <td>5</td>\n",
              "      <td>0</td>\n",
              "      <td>3</td>\n",
              "      <td>Allen, Mr. William Henry</td>\n",
              "      <td>male</td>\n",
              "      <td>35.0</td>\n",
              "      <td>0</td>\n",
              "      <td>0</td>\n",
              "      <td>373450</td>\n",
              "      <td>8.0500</td>\n",
              "      <td>NaN</td>\n",
              "      <td>S</td>\n",
              "    </tr>\n",
              "  </tbody>\n",
              "</table>\n",
              "</div>\n",
              "      <button class=\"colab-df-convert\" onclick=\"convertToInteractive('df-62716e80-687f-4d3e-b731-792f7b443d2c')\"\n",
              "              title=\"Convert this dataframe to an interactive table.\"\n",
              "              style=\"display:none;\">\n",
              "        \n",
              "  <svg xmlns=\"http://www.w3.org/2000/svg\" height=\"24px\"viewBox=\"0 0 24 24\"\n",
              "       width=\"24px\">\n",
              "    <path d=\"M0 0h24v24H0V0z\" fill=\"none\"/>\n",
              "    <path d=\"M18.56 5.44l.94 2.06.94-2.06 2.06-.94-2.06-.94-.94-2.06-.94 2.06-2.06.94zm-11 1L8.5 8.5l.94-2.06 2.06-.94-2.06-.94L8.5 2.5l-.94 2.06-2.06.94zm10 10l.94 2.06.94-2.06 2.06-.94-2.06-.94-.94-2.06-.94 2.06-2.06.94z\"/><path d=\"M17.41 7.96l-1.37-1.37c-.4-.4-.92-.59-1.43-.59-.52 0-1.04.2-1.43.59L10.3 9.45l-7.72 7.72c-.78.78-.78 2.05 0 2.83L4 21.41c.39.39.9.59 1.41.59.51 0 1.02-.2 1.41-.59l7.78-7.78 2.81-2.81c.8-.78.8-2.07 0-2.86zM5.41 20L4 18.59l7.72-7.72 1.47 1.35L5.41 20z\"/>\n",
              "  </svg>\n",
              "      </button>\n",
              "      \n",
              "  <style>\n",
              "    .colab-df-container {\n",
              "      display:flex;\n",
              "      flex-wrap:wrap;\n",
              "      gap: 12px;\n",
              "    }\n",
              "\n",
              "    .colab-df-convert {\n",
              "      background-color: #E8F0FE;\n",
              "      border: none;\n",
              "      border-radius: 50%;\n",
              "      cursor: pointer;\n",
              "      display: none;\n",
              "      fill: #1967D2;\n",
              "      height: 32px;\n",
              "      padding: 0 0 0 0;\n",
              "      width: 32px;\n",
              "    }\n",
              "\n",
              "    .colab-df-convert:hover {\n",
              "      background-color: #E2EBFA;\n",
              "      box-shadow: 0px 1px 2px rgba(60, 64, 67, 0.3), 0px 1px 3px 1px rgba(60, 64, 67, 0.15);\n",
              "      fill: #174EA6;\n",
              "    }\n",
              "\n",
              "    [theme=dark] .colab-df-convert {\n",
              "      background-color: #3B4455;\n",
              "      fill: #D2E3FC;\n",
              "    }\n",
              "\n",
              "    [theme=dark] .colab-df-convert:hover {\n",
              "      background-color: #434B5C;\n",
              "      box-shadow: 0px 1px 3px 1px rgba(0, 0, 0, 0.15);\n",
              "      filter: drop-shadow(0px 1px 2px rgba(0, 0, 0, 0.3));\n",
              "      fill: #FFFFFF;\n",
              "    }\n",
              "  </style>\n",
              "\n",
              "      <script>\n",
              "        const buttonEl =\n",
              "          document.querySelector('#df-62716e80-687f-4d3e-b731-792f7b443d2c button.colab-df-convert');\n",
              "        buttonEl.style.display =\n",
              "          google.colab.kernel.accessAllowed ? 'block' : 'none';\n",
              "\n",
              "        async function convertToInteractive(key) {\n",
              "          const element = document.querySelector('#df-62716e80-687f-4d3e-b731-792f7b443d2c');\n",
              "          const dataTable =\n",
              "            await google.colab.kernel.invokeFunction('convertToInteractive',\n",
              "                                                     [key], {});\n",
              "          if (!dataTable) return;\n",
              "\n",
              "          const docLinkHtml = 'Like what you see? Visit the ' +\n",
              "            '<a target=\"_blank\" href=https://colab.research.google.com/notebooks/data_table.ipynb>data table notebook</a>'\n",
              "            + ' to learn more about interactive tables.';\n",
              "          element.innerHTML = '';\n",
              "          dataTable['output_type'] = 'display_data';\n",
              "          await google.colab.output.renderOutput(dataTable, element);\n",
              "          const docLink = document.createElement('div');\n",
              "          docLink.innerHTML = docLinkHtml;\n",
              "          element.appendChild(docLink);\n",
              "        }\n",
              "      </script>\n",
              "    </div>\n",
              "  </div>\n",
              "  "
            ]
          },
          "metadata": {},
          "execution_count": 5
        }
      ]
    },
    {
      "cell_type": "markdown",
      "source": [
        "This code displays information about the DataFrame df using the info() method of the DataFrame.\n",
        "\n",
        "info() provides a summary of the DataFrame, including the number of non-null values in each column, the data type of each column, and the amount of memory used by the DataFrame."
      ],
      "metadata": {
        "id": "ZqJG5dx6Z4fj"
      }
    },
    {
      "cell_type": "code",
      "source": [
        "df.info()"
      ],
      "metadata": {
        "colab": {
          "base_uri": "https://localhost:8080/"
        },
        "id": "n7xYwzAxZqZ7",
        "outputId": "16d8efcc-b0ff-49da-92d3-c4e10c175220"
      },
      "execution_count": 6,
      "outputs": [
        {
          "output_type": "stream",
          "name": "stdout",
          "text": [
            "<class 'pandas.core.frame.DataFrame'>\n",
            "RangeIndex: 891 entries, 0 to 890\n",
            "Data columns (total 12 columns):\n",
            " #   Column       Non-Null Count  Dtype  \n",
            "---  ------       --------------  -----  \n",
            " 0   PassengerId  891 non-null    int64  \n",
            " 1   Survived     891 non-null    int64  \n",
            " 2   Pclass       891 non-null    int64  \n",
            " 3   Name         891 non-null    object \n",
            " 4   Sex          891 non-null    object \n",
            " 5   Age          714 non-null    float64\n",
            " 6   SibSp        891 non-null    int64  \n",
            " 7   Parch        891 non-null    int64  \n",
            " 8   Ticket       891 non-null    object \n",
            " 9   Fare         891 non-null    float64\n",
            " 10  Cabin        204 non-null    object \n",
            " 11  Embarked     889 non-null    object \n",
            "dtypes: float64(2), int64(5), object(5)\n",
            "memory usage: 83.7+ KB\n"
          ]
        }
      ]
    },
    {
      "cell_type": "markdown",
      "source": [
        "This code performs several operations on the DataFrame df:\n",
        "\n",
        "1. It selects a subset of the columns in the DataFrame, specifically \"Survived\", \"Age\", \"Sex\", and \"Pclass\", using the indexing operator [].\n",
        "\n",
        "2. It uses the pd.get_dummies() function to create one-hot encoded columns for the \"Sex\" and \"Pclass\" columns of the DataFrame. This converts the categorical variables \"Sex\" and \"Pclass\" into numerical variables that can be used in a machine learning model.\n",
        "3. It drops any rows with missing values using the dropna() method of the DataFrame.\n",
        "4. Finally, it displays the first 5 rows of the resulting DataFrame using the head() method of the DataFrame.\n",
        "\n",
        "The resulting DataFrame contains one-hot encoded columns for \"Sex\" and \"Pclass\", with no missing values. The columns in the DataFrame are \"Survived\", \"Age\", \"Sex_female\", \"Sex_male\", \"Pclass_1\", \"Pclass_2\", and \"Pclass_3\". The \"Survived\" column indicates whether the passenger survived the sinking of the Titanic (1) or not (0), the \"Age\" column contains the passenger's age, and the one-hot encoded columns indicate the passenger's sex and ticket class.\n",
        "\n",
        "\n",
        "\n"
      ],
      "metadata": {
        "id": "5dg9dpjqaGI0"
      }
    },
    {
      "cell_type": "code",
      "source": [
        "df = df[[\"Survived\", \"Age\", \"Sex\", \"Pclass\"]]\n",
        "df = pd.get_dummies(df, columns=[\"Sex\", \"Pclass\"])\n",
        "df.dropna(inplace=True) \n",
        "df.head()"
      ],
      "metadata": {
        "colab": {
          "base_uri": "https://localhost:8080/",
          "height": 206
        },
        "id": "1MGyHmiUZ9-e",
        "outputId": "e013454d-a468-4c52-b03b-b769345af8b2"
      },
      "execution_count": 7,
      "outputs": [
        {
          "output_type": "execute_result",
          "data": {
            "text/plain": [
              "   Survived   Age  Sex_female  Sex_male  Pclass_1  Pclass_2  Pclass_3\n",
              "0         0  22.0           0         1         0         0         1\n",
              "1         1  38.0           1         0         1         0         0\n",
              "2         1  26.0           1         0         0         0         1\n",
              "3         1  35.0           1         0         1         0         0\n",
              "4         0  35.0           0         1         0         0         1"
            ],
            "text/html": [
              "\n",
              "  <div id=\"df-0c842484-1fa9-41e2-bf6a-22f2b39b0e59\">\n",
              "    <div class=\"colab-df-container\">\n",
              "      <div>\n",
              "<style scoped>\n",
              "    .dataframe tbody tr th:only-of-type {\n",
              "        vertical-align: middle;\n",
              "    }\n",
              "\n",
              "    .dataframe tbody tr th {\n",
              "        vertical-align: top;\n",
              "    }\n",
              "\n",
              "    .dataframe thead th {\n",
              "        text-align: right;\n",
              "    }\n",
              "</style>\n",
              "<table border=\"1\" class=\"dataframe\">\n",
              "  <thead>\n",
              "    <tr style=\"text-align: right;\">\n",
              "      <th></th>\n",
              "      <th>Survived</th>\n",
              "      <th>Age</th>\n",
              "      <th>Sex_female</th>\n",
              "      <th>Sex_male</th>\n",
              "      <th>Pclass_1</th>\n",
              "      <th>Pclass_2</th>\n",
              "      <th>Pclass_3</th>\n",
              "    </tr>\n",
              "  </thead>\n",
              "  <tbody>\n",
              "    <tr>\n",
              "      <th>0</th>\n",
              "      <td>0</td>\n",
              "      <td>22.0</td>\n",
              "      <td>0</td>\n",
              "      <td>1</td>\n",
              "      <td>0</td>\n",
              "      <td>0</td>\n",
              "      <td>1</td>\n",
              "    </tr>\n",
              "    <tr>\n",
              "      <th>1</th>\n",
              "      <td>1</td>\n",
              "      <td>38.0</td>\n",
              "      <td>1</td>\n",
              "      <td>0</td>\n",
              "      <td>1</td>\n",
              "      <td>0</td>\n",
              "      <td>0</td>\n",
              "    </tr>\n",
              "    <tr>\n",
              "      <th>2</th>\n",
              "      <td>1</td>\n",
              "      <td>26.0</td>\n",
              "      <td>1</td>\n",
              "      <td>0</td>\n",
              "      <td>0</td>\n",
              "      <td>0</td>\n",
              "      <td>1</td>\n",
              "    </tr>\n",
              "    <tr>\n",
              "      <th>3</th>\n",
              "      <td>1</td>\n",
              "      <td>35.0</td>\n",
              "      <td>1</td>\n",
              "      <td>0</td>\n",
              "      <td>1</td>\n",
              "      <td>0</td>\n",
              "      <td>0</td>\n",
              "    </tr>\n",
              "    <tr>\n",
              "      <th>4</th>\n",
              "      <td>0</td>\n",
              "      <td>35.0</td>\n",
              "      <td>0</td>\n",
              "      <td>1</td>\n",
              "      <td>0</td>\n",
              "      <td>0</td>\n",
              "      <td>1</td>\n",
              "    </tr>\n",
              "  </tbody>\n",
              "</table>\n",
              "</div>\n",
              "      <button class=\"colab-df-convert\" onclick=\"convertToInteractive('df-0c842484-1fa9-41e2-bf6a-22f2b39b0e59')\"\n",
              "              title=\"Convert this dataframe to an interactive table.\"\n",
              "              style=\"display:none;\">\n",
              "        \n",
              "  <svg xmlns=\"http://www.w3.org/2000/svg\" height=\"24px\"viewBox=\"0 0 24 24\"\n",
              "       width=\"24px\">\n",
              "    <path d=\"M0 0h24v24H0V0z\" fill=\"none\"/>\n",
              "    <path d=\"M18.56 5.44l.94 2.06.94-2.06 2.06-.94-2.06-.94-.94-2.06-.94 2.06-2.06.94zm-11 1L8.5 8.5l.94-2.06 2.06-.94-2.06-.94L8.5 2.5l-.94 2.06-2.06.94zm10 10l.94 2.06.94-2.06 2.06-.94-2.06-.94-.94-2.06-.94 2.06-2.06.94z\"/><path d=\"M17.41 7.96l-1.37-1.37c-.4-.4-.92-.59-1.43-.59-.52 0-1.04.2-1.43.59L10.3 9.45l-7.72 7.72c-.78.78-.78 2.05 0 2.83L4 21.41c.39.39.9.59 1.41.59.51 0 1.02-.2 1.41-.59l7.78-7.78 2.81-2.81c.8-.78.8-2.07 0-2.86zM5.41 20L4 18.59l7.72-7.72 1.47 1.35L5.41 20z\"/>\n",
              "  </svg>\n",
              "      </button>\n",
              "      \n",
              "  <style>\n",
              "    .colab-df-container {\n",
              "      display:flex;\n",
              "      flex-wrap:wrap;\n",
              "      gap: 12px;\n",
              "    }\n",
              "\n",
              "    .colab-df-convert {\n",
              "      background-color: #E8F0FE;\n",
              "      border: none;\n",
              "      border-radius: 50%;\n",
              "      cursor: pointer;\n",
              "      display: none;\n",
              "      fill: #1967D2;\n",
              "      height: 32px;\n",
              "      padding: 0 0 0 0;\n",
              "      width: 32px;\n",
              "    }\n",
              "\n",
              "    .colab-df-convert:hover {\n",
              "      background-color: #E2EBFA;\n",
              "      box-shadow: 0px 1px 2px rgba(60, 64, 67, 0.3), 0px 1px 3px 1px rgba(60, 64, 67, 0.15);\n",
              "      fill: #174EA6;\n",
              "    }\n",
              "\n",
              "    [theme=dark] .colab-df-convert {\n",
              "      background-color: #3B4455;\n",
              "      fill: #D2E3FC;\n",
              "    }\n",
              "\n",
              "    [theme=dark] .colab-df-convert:hover {\n",
              "      background-color: #434B5C;\n",
              "      box-shadow: 0px 1px 3px 1px rgba(0, 0, 0, 0.15);\n",
              "      filter: drop-shadow(0px 1px 2px rgba(0, 0, 0, 0.3));\n",
              "      fill: #FFFFFF;\n",
              "    }\n",
              "  </style>\n",
              "\n",
              "      <script>\n",
              "        const buttonEl =\n",
              "          document.querySelector('#df-0c842484-1fa9-41e2-bf6a-22f2b39b0e59 button.colab-df-convert');\n",
              "        buttonEl.style.display =\n",
              "          google.colab.kernel.accessAllowed ? 'block' : 'none';\n",
              "\n",
              "        async function convertToInteractive(key) {\n",
              "          const element = document.querySelector('#df-0c842484-1fa9-41e2-bf6a-22f2b39b0e59');\n",
              "          const dataTable =\n",
              "            await google.colab.kernel.invokeFunction('convertToInteractive',\n",
              "                                                     [key], {});\n",
              "          if (!dataTable) return;\n",
              "\n",
              "          const docLinkHtml = 'Like what you see? Visit the ' +\n",
              "            '<a target=\"_blank\" href=https://colab.research.google.com/notebooks/data_table.ipynb>data table notebook</a>'\n",
              "            + ' to learn more about interactive tables.';\n",
              "          element.innerHTML = '';\n",
              "          dataTable['output_type'] = 'display_data';\n",
              "          await google.colab.output.renderOutput(dataTable, element);\n",
              "          const docLink = document.createElement('div');\n",
              "          docLink.innerHTML = docLinkHtml;\n",
              "          element.appendChild(docLink);\n",
              "        }\n",
              "      </script>\n",
              "    </div>\n",
              "  </div>\n",
              "  "
            ]
          },
          "metadata": {},
          "execution_count": 7
        }
      ]
    },
    {
      "cell_type": "markdown",
      "source": [
        "This code uses the train_test_split() function from scikit-learn to split the DataFrame df into training and testing sets.\n",
        "\n",
        "The input variables x and y are defined using the DataFrame df: x is a DataFrame that contains all the columns of df except for the \"Survived\" column, and y is a Series that contains only the \"Survived\" column of df.\n",
        "\n",
        "The train_test_split() function then splits the data into training and testing sets. The test_size parameter specifies the fraction of the data that should be used for testing (in this case, 20% of the data). The stratify parameter is used to ensure that the classes in y are evenly represented in both the training and testing sets. The random_state parameter is used to ensure that the results are reproducible.\n",
        "\n",
        "The resulting variables x_train, x_test, y_train, and y_test contain the training and testing sets, respectively. The x_train and x_test DataFrames contain all the columns of x, while y_train and y_test are Series containing only the \"Survived\" column."
      ],
      "metadata": {
        "id": "zm3KF9Aza60Y"
      }
    },
    {
      "cell_type": "code",
      "source": [
        "from sklearn.model_selection import train_test_split\n",
        "\n",
        "x = df.drop(\"Survived\", axis=1)\n",
        "y = df[\"Survived\"]\n",
        "\n",
        "x_train, x_test, y_train, y_test = train_test_split(x, y, test_size=0.2,\n",
        "                                                    stratify=y,\n",
        "                                                    random_state=0)"
      ],
      "metadata": {
        "id": "EZ7H918eafce"
      },
      "execution_count": 8,
      "outputs": []
    },
    {
      "cell_type": "markdown",
      "source": [
        "This code trains a logistic regression model using scikit-learn's LogisticRegression class, and then uses the trained model to make predictions on the test data and calculate the model's accuracy.\n",
        "\n",
        "The first line of code creates an instance of the LogisticRegression class with a random_state of 0. The random_state parameter is used to ensure that the results are reproducible.\n",
        "\n",
        "The second line of code fits the logistic regression model to the training data using the fit() method of the model object. The fit() method learns the parameters of the logistic regression model from the training data.\n",
        "\n",
        "The third line of code uses the score() method of the model object to calculate the accuracy of the model on the test data. The score() method returns the mean accuracy on the given test data and labels. The accuracy is a measure of how well the model is able to correctly predict the survival status of passengers in the test data, and is calculated as the fraction of correct predictions."
      ],
      "metadata": {
        "id": "09shydwJbho5"
      }
    },
    {
      "cell_type": "code",
      "source": [
        "from sklearn.linear_model import LogisticRegression\n",
        "\n",
        "model = LogisticRegression(random_state=0)\n",
        "model.fit(x_train, y_train)\n",
        "model.score(x_test, y_test)"
      ],
      "metadata": {
        "colab": {
          "base_uri": "https://localhost:8080/"
        },
        "id": "ZgM4zfcxbTOB",
        "outputId": "97ef72a6-9dfb-4000-8021-3835d212cd17"
      },
      "execution_count": 9,
      "outputs": [
        {
          "output_type": "execute_result",
          "data": {
            "text/plain": [
              "0.8321678321678322"
            ]
          },
          "metadata": {},
          "execution_count": 9
        }
      ]
    },
    {
      "cell_type": "markdown",
      "source": [
        "This code uses scikit-learn's cross_val_score() function to perform cross-validation on the logistic regression model.\n",
        "\n",
        "The cross_val_score() function is a convenient way to perform k-fold cross-validation, which involves splitting the data into k subsets, and using each subset in turn as a validation set while the model is trained on the remaining k-1 subsets.\n",
        "\n",
        "The first argument to cross_val_score() is the model object (model). The second and third arguments are the input features (x) and target variable (y). The cv parameter is used to specify the number of folds to use in the cross-validation (in this case, 5 folds).\n",
        "\n",
        "The cross_val_score() function returns an array of accuracy scores, one for each fold. The mean() method is then used to compute the mean accuracy score across all the folds. This gives an estimate of the model's performance on unseen data, and is a more reliable estimate than the single accuracy score computed on the test data in the previous code snippet."
      ],
      "metadata": {
        "id": "SuXgw68WEHVK"
      }
    },
    {
      "cell_type": "code",
      "source": [
        "from sklearn.model_selection import cross_val_score\n",
        "\n",
        "cross_val_score(model, x, y, cv=5).mean()"
      ],
      "metadata": {
        "colab": {
          "base_uri": "https://localhost:8080/"
        },
        "id": "eyXH8xDTD29u",
        "outputId": "03c91567-78f7-45e7-d468-80a341bde592"
      },
      "execution_count": 10,
      "outputs": [
        {
          "output_type": "execute_result",
          "data": {
            "text/plain": [
              "0.7857480547621394"
            ]
          },
          "metadata": {},
          "execution_count": 10
        }
      ]
    },
    {
      "cell_type": "markdown",
      "source": [
        "This code creates a confusion matrix plot using scikit-learn's ConfusionMatrixDisplay class.\n",
        "\n",
        "The from_estimator() method of the ConfusionMatrixDisplay class is used to generate the confusion matrix for the logistic regression model. The first argument is the model object (model). The second and third arguments are the input features (x_test) and target variable (y_test) for the test data.\n",
        "\n",
        "The display_labels parameter is used to specify the class labels (\"Perished\" and \"Survived\") that will be displayed on the x and y axes of the plot.\n",
        "\n",
        "The cmap parameter is used to specify the color map for the plot (in this case, \"Blues\").\n",
        "\n",
        "The xticks_rotation parameter is used to specify the rotation angle for the x-axis tick labels (in this case, \"vertical\").\n",
        "\n",
        "The resulting plot shows the number of true positives (top left), false positives (top right), false negatives (bottom left), and true negatives (bottom right) for the logistic regression model on the test data. The diagonal elements (true positives and true negatives) show the number of correct predictions, while the off-diagonal elements (false positives and false negatives) show the number of incorrect predictions."
      ],
      "metadata": {
        "id": "DvkJXGJzEaVM"
      }
    },
    {
      "cell_type": "code",
      "source": [
        "%matplotlib inline \n",
        "from sklearn.metrics import ConfusionMatrixDisplay as cmd\n",
        "\n",
        "cmd.from_estimator(model, x_test, y_test,\n",
        "                   display_labels = [\"Perished\", \"Survived\"],\n",
        "                   cmap=\"Blues\", xticks_rotation=\"vertical\")"
      ],
      "metadata": {
        "colab": {
          "base_uri": "https://localhost:8080/",
          "height": 331
        },
        "id": "K3aH8rcoEPhK",
        "outputId": "fd007158-600f-4db1-e95a-f5e669387814"
      },
      "execution_count": 11,
      "outputs": [
        {
          "output_type": "execute_result",
          "data": {
            "text/plain": [
              "<sklearn.metrics._plot.confusion_matrix.ConfusionMatrixDisplay at 0x7faa2b358940>"
            ]
          },
          "metadata": {},
          "execution_count": 11
        },
        {
          "output_type": "display_data",
          "data": {
            "text/plain": [
              "<Figure size 432x288 with 2 Axes>"
            ],
            "image/png": "[encoded data removed]"
          },
          "metadata": {
            "needs_background": "light"
          }
        }
      ]
    },
    {
      "cell_type": "markdown",
      "source": [
        "In this code, scikit-learn's precision_score and recall_score functions are used to calculate the precision and recall of the logistic regression model's predictions on the test data.\n",
        "\n",
        "The predicted target variable (y_pred) is obtained by calling the predict method on the model object with the input features (x_test) as the argument.\n",
        "\n",
        "The precision_score function is then called with the true target variable (y_test) and the predicted target variable (y_pred) as arguments to compute the precision of the model's predictions.\n",
        "\n",
        "Similarly, the recall_score function is called with y_test and y_pred as arguments to compute the recall of the model's predictions.\n",
        "\n",
        "The recall variable is assigned the same value as sensitivity, as these terms are often used interchangeably to refer to the same metric.\n",
        "\n",
        "The specificity variable is computed by calling the recall_score function again with y_test, y_pred, and pos_label=0 as arguments. The pos_label parameter is used to specify which class label is considered the \"positive\" class for the calculation of recall. In this case, the value of pos_label is set to 0 (which corresponds to the \"Perished\" class) to calculate the recall of the \"Perished\" class. The resulting value is equal to the specificity of the model's predictions for the \"Survived\" class."
      ],
      "metadata": {
        "id": "6MBjpIGSFmSW"
      }
    },
    {
      "cell_type": "code",
      "source": [
        "from sklearn.metrics import precision_score, recall_score\n",
        "\n",
        "y_pred = model.predict(x_test)\n",
        "precision = precision_score(y_test, y_pred)\n",
        "recall = recall_score(y_test, y_pred)\n",
        "sensitivity = recall\n",
        "specificity = recall_score(y_test, y_pred, pos_label=0)"
      ],
      "metadata": {
        "id": "2SRWuSc_EyUH"
      },
      "execution_count": 12,
      "outputs": []
    },
    {
      "cell_type": "code",
      "source": [
        "print(f\"Precision: {precision}\")\n",
        "print(f\"Recall: {recall}\")\n",
        "print(f\"Sensitivity: {sensitivity}\")\n",
        "print(f\"Specificity: {specificity}\")"
      ],
      "metadata": {
        "colab": {
          "base_uri": "https://localhost:8080/"
        },
        "id": "k_n49GbFFmoM",
        "outputId": "b65faef8-2ee0-42fe-aac2-a5570cd19ff4"
      },
      "execution_count": 13,
      "outputs": [
        {
          "output_type": "stream",
          "name": "stdout",
          "text": [
            "Precision: 0.8541666666666666\n",
            "Recall: 0.7068965517241379\n",
            "Sensitivity: 0.7068965517241379\n",
            "Specificity: 0.9176470588235294\n"
          ]
        }
      ]
    },
    {
      "cell_type": "markdown",
      "source": [
        "This code creates a pandas DataFrame called female with one row of input features for a hypothetical female passenger with age 30, who is traveling in first class.\n",
        "\n",
        "The DataFrame is then passed as an argument to the predict method of the logistic regression model model. The value of model.predict(female) is an array containing the predicted class label (0 or 1) for the given input features. Since female corresponds to a hypothetical female passenger, the predicted class label represents the model's prediction of whether the passenger would have survived the Titanic disaster.\n",
        "\n",
        "The [0] at the end of the code is used to extract the first (and only) element of the predicted class label array as a scalar value, which is then returned by the expression. Therefore, the code predicts whether the hypothetical female passenger would have survived the Titanic disaster."
      ],
      "metadata": {
        "id": "imbfBpu7GPjB"
      }
    },
    {
      "cell_type": "code",
      "source": [
        "female = pd.DataFrame({\"Age\": [30], \"Sex_female\": [1], \"Sex_male\": [0],\n",
        "                       \"Pclass_1\": [1], \"Pclass_2\": [0], \"Pclass_3\": [0]})\n",
        "model.predict(female)[0]"
      ],
      "metadata": {
        "colab": {
          "base_uri": "https://localhost:8080/"
        },
        "id": "141aJQjTGJVT",
        "outputId": "de964595-cad6-4232-e850-4e4e5b6ad4a1"
      },
      "execution_count": 14,
      "outputs": [
        {
          "output_type": "execute_result",
          "data": {
            "text/plain": [
              "1"
            ]
          },
          "metadata": {},
          "execution_count": 14
        }
      ]
    },
    {
      "cell_type": "markdown",
      "source": [
        "The code below calculates the predicted probability of survival for the hypothetical female passenger with input features specified in the female DataFrame. The predict_proba method of the logistic regression model model returns the predicted probabilities of each class label (0 and 1) for the input features. Since we are interested in the probability of survival (class label 1), we access the probability of class label 1 by indexing the second element of the predicted probabilities array returned by model.predict_proba(female) using [0][1].\n",
        "\n",
        "The formatted string f\"Probability of Survival: {probability: .1%}\" prints the probability of survival as a percentage with one decimal point. The output of the code tells us the predicted probability of survival for the hypothetical female passenger."
      ],
      "metadata": {
        "id": "mUwcyKHXG1mY"
      }
    },
    {
      "cell_type": "code",
      "source": [
        "probability = model.predict_proba(female)[0][1]\n",
        "print(f\"Probability of Survival: {probability: .1%}\")"
      ],
      "metadata": {
        "colab": {
          "base_uri": "https://localhost:8080/"
        },
        "id": "ymahAlP_GsAI",
        "outputId": "e5d13d51-1b57-4147-a582-91ab330dfc62"
      },
      "execution_count": 15,
      "outputs": [
        {
          "output_type": "stream",
          "name": "stdout",
          "text": [
            "Probability of Survival:  91.6%\n"
          ]
        }
      ]
    },
    {
      "cell_type": "markdown",
      "source": [
        "The predict method of the logistic regression model model is used to predict the class label (0 or 1) for the input features. We pass the male DataFrame as input to the predict method and access the first element of the predicted class label array using [0].\n",
        "\n",
        "Next, the predict_proba method of the logistic regression model model is used to calculate the predicted probabilities of each class label (0 and 1) for the input features. Since we are interested in the probability of survival (class label 1), we access the probability of class label 1 by indexing the second element of the predicted probabilities array returned by model.predict_proba(male) using [0][1].\n",
        "\n",
        "Finally, the formatted string f\"Probability of Survival: {probability: .1%}\" prints the probability of survival as a percentage with one decimal point. The output of the code tells us the predicted probability of survival for the hypothetical male passenger."
      ],
      "metadata": {
        "id": "HTI3LbECHN6c"
      }
    },
    {
      "cell_type": "code",
      "source": [
        "male = pd.DataFrame({\"Age\": [60], \"Sex_female\": [0], \"Sex_male\": [1],\n",
        "                       \"Pclass_1\": [0], \"Pclass_2\": [0], \"Pclass_3\": [1]})\n",
        "model.predict(female)[0]\n",
        "probability = model.predict_proba(male)[0][1]\n",
        "print(f\"Probability of Survival: {probability: .1%}\")"
      ],
      "metadata": {
        "colab": {
          "base_uri": "https://localhost:8080/"
        },
        "id": "tfSXNOwVHD5h",
        "outputId": "2f770118-d4e4-4e7e-82e6-5ff8e7f60de7"
      },
      "execution_count": 16,
      "outputs": [
        {
          "output_type": "stream",
          "name": "stdout",
          "text": [
            "Probability of Survival:  2.9%\n"
          ]
        }
      ]
    },
    {
      "cell_type": "markdown",
      "source": [
        "# Detecting Credit Card Fraud\n"
      ],
      "metadata": {
        "id": "D6leXCtaPoa5"
      }
    },
    {
      "cell_type": "code",
      "source": [
        "import pandas as pd\n",
        "\n",
        "df = pd.read_csv('creditcard.csv')\n",
        "df.head()"
      ],
      "metadata": {
        "colab": {
          "base_uri": "https://localhost:8080/",
          "height": 300
        },
        "id": "AEOeM4-KHVMi",
        "outputId": "3d5bb477-98fe-4754-d8c1-1809401b2865"
      },
      "execution_count": 18,
      "outputs": [
        {
          "output_type": "execute_result",
          "data": {
            "text/plain": [
              "   Time        V1        V2        V3        V4        V5        V6        V7  \\\n",
              "0     0 -1.359807 -0.072781  2.536347  1.378155 -0.338321  0.462388  0.239599   \n",
              "1     0  1.191857  0.266151  0.166480  0.448154  0.060018 -0.082361 -0.078803   \n",
              "2     1 -1.358354 -1.340163  1.773209  0.379780 -0.503198  1.800499  0.791461   \n",
              "3     1 -0.966272 -0.185226  1.792993 -0.863291 -0.010309  1.247203  0.237609   \n",
              "4     2 -1.158233  0.877737  1.548718  0.403034 -0.407193  0.095921  0.592941   \n",
              "\n",
              "         V8        V9  ...       V21       V22       V23       V24       V25  \\\n",
              "0  0.098698  0.363787  ... -0.018307  0.277838 -0.110474  0.066928  0.128539   \n",
              "1  0.085102 -0.255425  ... -0.225775 -0.638672  0.101288 -0.339846  0.167170   \n",
              "2  0.247676 -1.514654  ...  0.247998  0.771679  0.909412 -0.689281 -0.327642   \n",
              "3  0.377436 -1.387024  ... -0.108300  0.005274 -0.190321 -1.175575  0.647376   \n",
              "4 -0.270533  0.817739  ... -0.009431  0.798278 -0.137458  0.141267 -0.206010   \n",
              "\n",
              "        V26       V27       V28  Amount  Class  \n",
              "0 -0.189115  0.133558 -0.021053  149.62    0.0  \n",
              "1  0.125895 -0.008983  0.014724    2.69    0.0  \n",
              "2 -0.139097 -0.055353 -0.059752  378.66    0.0  \n",
              "3 -0.221929  0.062723  0.061458  123.50    0.0  \n",
              "4  0.502292  0.219422  0.215153   69.99    0.0  \n",
              "\n",
              "[5 rows x 31 columns]"
            ],
            "text/html": [
              "\n",
              "  <div id=\"df-5f62a413-29b1-4c2d-b3c7-9a7fef8faa94\">\n",
              "    <div class=\"colab-df-container\">\n",
              "      <div>\n",
              "<style scoped>\n",
              "    .dataframe tbody tr th:only-of-type {\n",
              "        vertical-align: middle;\n",
              "    }\n",
              "\n",
              "    .dataframe tbody tr th {\n",
              "        vertical-align: top;\n",
              "    }\n",
              "\n",
              "    .dataframe thead th {\n",
              "        text-align: right;\n",
              "    }\n",
              "</style>\n",
              "<table border=\"1\" class=\"dataframe\">\n",
              "  <thead>\n",
              "    <tr style=\"text-align: right;\">\n",
              "      <th></th>\n",
              "      <th>Time</th>\n",
              "      <th>V1</th>\n",
              "      <th>V2</th>\n",
              "      <th>V3</th>\n",
              "      <th>V4</th>\n",
              "      <th>V5</th>\n",
              "      <th>V6</th>\n",
              "      <th>V7</th>\n",
              "      <th>V8</th>\n",
              "      <th>V9</th>\n",
              "      <th>...</th>\n",
              "      <th>V21</th>\n",
              "      <th>V22</th>\n",
              "      <th>V23</th>\n",
              "      <th>V24</th>\n",
              "      <th>V25</th>\n",
              "      <th>V26</th>\n",
              "      <th>V27</th>\n",
              "      <th>V28</th>\n",
              "      <th>Amount</th>\n",
              "      <th>Class</th>\n",
              "    </tr>\n",
              "  </thead>\n",
              "  <tbody>\n",
              "    <tr>\n",
              "      <th>0</th>\n",
              "      <td>0</td>\n",
              "      <td>-1.359807</td>\n",
              "      <td>-0.072781</td>\n",
              "      <td>2.536347</td>\n",
              "      <td>1.378155</td>\n",
              "      <td>-0.338321</td>\n",
              "      <td>0.462388</td>\n",
              "      <td>0.239599</td>\n",
              "      <td>0.098698</td>\n",
              "      <td>0.363787</td>\n",
              "      <td>...</td>\n",
              "      <td>-0.018307</td>\n",
              "      <td>0.277838</td>\n",
              "      <td>-0.110474</td>\n",
              "      <td>0.066928</td>\n",
              "      <td>0.128539</td>\n",
              "      <td>-0.189115</td>\n",
              "      <td>0.133558</td>\n",
              "      <td>-0.021053</td>\n",
              "      <td>149.62</td>\n",
              "      <td>0.0</td>\n",
              "    </tr>\n",
              "    <tr>\n",
              "      <th>1</th>\n",
              "      <td>0</td>\n",
              "      <td>1.191857</td>\n",
              "      <td>0.266151</td>\n",
              "      <td>0.166480</td>\n",
              "      <td>0.448154</td>\n",
              "      <td>0.060018</td>\n",
              "      <td>-0.082361</td>\n",
              "      <td>-0.078803</td>\n",
              "      <td>0.085102</td>\n",
              "      <td>-0.255425</td>\n",
              "      <td>...</td>\n",
              "      <td>-0.225775</td>\n",
              "      <td>-0.638672</td>\n",
              "      <td>0.101288</td>\n",
              "      <td>-0.339846</td>\n",
              "      <td>0.167170</td>\n",
              "      <td>0.125895</td>\n",
              "      <td>-0.008983</td>\n",
              "      <td>0.014724</td>\n",
              "      <td>2.69</td>\n",
              "      <td>0.0</td>\n",
              "    </tr>\n",
              "    <tr>\n",
              "      <th>2</th>\n",
              "      <td>1</td>\n",
              "      <td>-1.358354</td>\n",
              "      <td>-1.340163</td>\n",
              "      <td>1.773209</td>\n",
              "      <td>0.379780</td>\n",
              "      <td>-0.503198</td>\n",
              "      <td>1.800499</td>\n",
              "      <td>0.791461</td>\n",
              "      <td>0.247676</td>\n",
              "      <td>-1.514654</td>\n",
              "      <td>...</td>\n",
              "      <td>0.247998</td>\n",
              "      <td>0.771679</td>\n",
              "      <td>0.909412</td>\n",
              "      <td>-0.689281</td>\n",
              "      <td>-0.327642</td>\n",
              "      <td>-0.139097</td>\n",
              "      <td>-0.055353</td>\n",
              "      <td>-0.059752</td>\n",
              "      <td>378.66</td>\n",
              "      <td>0.0</td>\n",
              "    </tr>\n",
              "    <tr>\n",
              "      <th>3</th>\n",
              "      <td>1</td>\n",
              "      <td>-0.966272</td>\n",
              "      <td>-0.185226</td>\n",
              "      <td>1.792993</td>\n",
              "      <td>-0.863291</td>\n",
              "      <td>-0.010309</td>\n",
              "      <td>1.247203</td>\n",
              "      <td>0.237609</td>\n",
              "      <td>0.377436</td>\n",
              "      <td>-1.387024</td>\n",
              "      <td>...</td>\n",
              "      <td>-0.108300</td>\n",
              "      <td>0.005274</td>\n",
              "      <td>-0.190321</td>\n",
              "      <td>-1.175575</td>\n",
              "      <td>0.647376</td>\n",
              "      <td>-0.221929</td>\n",
              "      <td>0.062723</td>\n",
              "      <td>0.061458</td>\n",
              "      <td>123.50</td>\n",
              "      <td>0.0</td>\n",
              "    </tr>\n",
              "    <tr>\n",
              "      <th>4</th>\n",
              "      <td>2</td>\n",
              "      <td>-1.158233</td>\n",
              "      <td>0.877737</td>\n",
              "      <td>1.548718</td>\n",
              "      <td>0.403034</td>\n",
              "      <td>-0.407193</td>\n",
              "      <td>0.095921</td>\n",
              "      <td>0.592941</td>\n",
              "      <td>-0.270533</td>\n",
              "      <td>0.817739</td>\n",
              "      <td>...</td>\n",
              "      <td>-0.009431</td>\n",
              "      <td>0.798278</td>\n",
              "      <td>-0.137458</td>\n",
              "      <td>0.141267</td>\n",
              "      <td>-0.206010</td>\n",
              "      <td>0.502292</td>\n",
              "      <td>0.219422</td>\n",
              "      <td>0.215153</td>\n",
              "      <td>69.99</td>\n",
              "      <td>0.0</td>\n",
              "    </tr>\n",
              "  </tbody>\n",
              "</table>\n",
              "<p>5 rows × 31 columns</p>\n",
              "</div>\n",
              "      <button class=\"colab-df-convert\" onclick=\"convertToInteractive('df-5f62a413-29b1-4c2d-b3c7-9a7fef8faa94')\"\n",
              "              title=\"Convert this dataframe to an interactive table.\"\n",
              "              style=\"display:none;\">\n",
              "        \n",
              "  <svg xmlns=\"http://www.w3.org/2000/svg\" height=\"24px\"viewBox=\"0 0 24 24\"\n",
              "       width=\"24px\">\n",
              "    <path d=\"M0 0h24v24H0V0z\" fill=\"none\"/>\n",
              "    <path d=\"M18.56 5.44l.94 2.06.94-2.06 2.06-.94-2.06-.94-.94-2.06-.94 2.06-2.06.94zm-11 1L8.5 8.5l.94-2.06 2.06-.94-2.06-.94L8.5 2.5l-.94 2.06-2.06.94zm10 10l.94 2.06.94-2.06 2.06-.94-2.06-.94-.94-2.06-.94 2.06-2.06.94z\"/><path d=\"M17.41 7.96l-1.37-1.37c-.4-.4-.92-.59-1.43-.59-.52 0-1.04.2-1.43.59L10.3 9.45l-7.72 7.72c-.78.78-.78 2.05 0 2.83L4 21.41c.39.39.9.59 1.41.59.51 0 1.02-.2 1.41-.59l7.78-7.78 2.81-2.81c.8-.78.8-2.07 0-2.86zM5.41 20L4 18.59l7.72-7.72 1.47 1.35L5.41 20z\"/>\n",
              "  </svg>\n",
              "      </button>\n",
              "      \n",
              "  <style>\n",
              "    .colab-df-container {\n",
              "      display:flex;\n",
              "      flex-wrap:wrap;\n",
              "      gap: 12px;\n",
              "    }\n",
              "\n",
              "    .colab-df-convert {\n",
              "      background-color: #E8F0FE;\n",
              "      border: none;\n",
              "      border-radius: 50%;\n",
              "      cursor: pointer;\n",
              "      display: none;\n",
              "      fill: #1967D2;\n",
              "      height: 32px;\n",
              "      padding: 0 0 0 0;\n",
              "      width: 32px;\n",
              "    }\n",
              "\n",
              "    .colab-df-convert:hover {\n",
              "      background-color: #E2EBFA;\n",
              "      box-shadow: 0px 1px 2px rgba(60, 64, 67, 0.3), 0px 1px 3px 1px rgba(60, 64, 67, 0.15);\n",
              "      fill: #174EA6;\n",
              "    }\n",
              "\n",
              "    [theme=dark] .colab-df-convert {\n",
              "      background-color: #3B4455;\n",
              "      fill: #D2E3FC;\n",
              "    }\n",
              "\n",
              "    [theme=dark] .colab-df-convert:hover {\n",
              "      background-color: #434B5C;\n",
              "      box-shadow: 0px 1px 3px 1px rgba(0, 0, 0, 0.15);\n",
              "      filter: drop-shadow(0px 1px 2px rgba(0, 0, 0, 0.3));\n",
              "      fill: #FFFFFF;\n",
              "    }\n",
              "  </style>\n",
              "\n",
              "      <script>\n",
              "        const buttonEl =\n",
              "          document.querySelector('#df-5f62a413-29b1-4c2d-b3c7-9a7fef8faa94 button.colab-df-convert');\n",
              "        buttonEl.style.display =\n",
              "          google.colab.kernel.accessAllowed ? 'block' : 'none';\n",
              "\n",
              "        async function convertToInteractive(key) {\n",
              "          const element = document.querySelector('#df-5f62a413-29b1-4c2d-b3c7-9a7fef8faa94');\n",
              "          const dataTable =\n",
              "            await google.colab.kernel.invokeFunction('convertToInteractive',\n",
              "                                                     [key], {});\n",
              "          if (!dataTable) return;\n",
              "\n",
              "          const docLinkHtml = 'Like what you see? Visit the ' +\n",
              "            '<a target=\"_blank\" href=https://colab.research.google.com/notebooks/data_table.ipynb>data table notebook</a>'\n",
              "            + ' to learn more about interactive tables.';\n",
              "          element.innerHTML = '';\n",
              "          dataTable['output_type'] = 'display_data';\n",
              "          await google.colab.output.renderOutput(dataTable, element);\n",
              "          const docLink = document.createElement('div');\n",
              "          docLink.innerHTML = docLinkHtml;\n",
              "          element.appendChild(docLink);\n",
              "        }\n",
              "      </script>\n",
              "    </div>\n",
              "  </div>\n",
              "  "
            ]
          },
          "metadata": {},
          "execution_count": 18
        }
      ]
    },
    {
      "cell_type": "markdown",
      "source": [
        "These lines of code will print True if there are any NaN values, if not all the values are finite, or if any of the values are too large for float64."
      ],
      "metadata": {
        "id": "ZGjQr6lhQ82q"
      }
    },
    {
      "cell_type": "code",
      "source": [
        "print(np.any(np.isnan(x)))\n",
        "print(np.all(np.isfinite(x)))\n",
        "print(np.all(np.abs(x) < np.finfo(np.float64).max))"
      ],
      "metadata": {
        "colab": {
          "base_uri": "https://localhost:8080/"
        },
        "id": "y7Hw6jYqQoVx",
        "outputId": "f8107909-4ff3-4684-d099-a5d80f80748d"
      },
      "execution_count": 25,
      "outputs": [
        {
          "output_type": "stream",
          "name": "stdout",
          "text": [
            "True\n",
            "False\n",
            "False\n"
          ]
        }
      ]
    },
    {
      "cell_type": "code",
      "source": [
        "df.info()"
      ],
      "metadata": {
        "colab": {
          "base_uri": "https://localhost:8080/"
        },
        "id": "2KHA7tGWPzVO",
        "outputId": "909b69b5-fab2-4347-dbec-62a11e704986"
      },
      "execution_count": 19,
      "outputs": [
        {
          "output_type": "stream",
          "name": "stdout",
          "text": [
            "<class 'pandas.core.frame.DataFrame'>\n",
            "RangeIndex: 111004 entries, 0 to 111003\n",
            "Data columns (total 31 columns):\n",
            " #   Column  Non-Null Count   Dtype  \n",
            "---  ------  --------------   -----  \n",
            " 0   Time    111004 non-null  int64  \n",
            " 1   V1      111004 non-null  float64\n",
            " 2   V2      111004 non-null  float64\n",
            " 3   V3      111004 non-null  float64\n",
            " 4   V4      111004 non-null  float64\n",
            " 5   V5      111004 non-null  float64\n",
            " 6   V6      111004 non-null  float64\n",
            " 7   V7      111004 non-null  float64\n",
            " 8   V8      111004 non-null  float64\n",
            " 9   V9      111004 non-null  float64\n",
            " 10  V10     111004 non-null  float64\n",
            " 11  V11     111004 non-null  float64\n",
            " 12  V12     111004 non-null  float64\n",
            " 13  V13     111004 non-null  float64\n",
            " 14  V14     111004 non-null  float64\n",
            " 15  V15     111004 non-null  float64\n",
            " 16  V16     111004 non-null  float64\n",
            " 17  V17     111004 non-null  float64\n",
            " 18  V18     111004 non-null  float64\n",
            " 19  V19     111004 non-null  float64\n",
            " 20  V20     111004 non-null  float64\n",
            " 21  V21     111004 non-null  float64\n",
            " 22  V22     111004 non-null  float64\n",
            " 23  V23     111003 non-null  float64\n",
            " 24  V24     111003 non-null  float64\n",
            " 25  V25     111003 non-null  float64\n",
            " 26  V26     111003 non-null  float64\n",
            " 27  V27     111003 non-null  float64\n",
            " 28  V28     111003 non-null  float64\n",
            " 29  Amount  111003 non-null  float64\n",
            " 30  Class   111003 non-null  float64\n",
            "dtypes: float64(30), int64(1)\n",
            "memory usage: 26.3 MB\n"
          ]
        }
      ]
    },
    {
      "cell_type": "markdown",
      "source": [
        "This will replace all the NaN values in the DataFrame df with 0.0.\n",
        "\n",
        "The fillna() method takes the value argument, which specifies the value to use for filling the NaN values. In this case, we set it to 0.0. The inplace=True argument ensures that the changes are made to the original DataFrame df in place, rather than creating a new DataFrame.\n",
        "\n",
        "Note that replacing missing values with a constant value such as 0.0 is just one of several possible strategies for handling missing data. You may want to explore other strategies, such as imputation or deletion, depending on the nature of your data and the problem you are trying to solve."
      ],
      "metadata": {
        "id": "Az6oNv9PROw_"
      }
    },
    {
      "cell_type": "code",
      "source": [
        "df.fillna(value=0.0, inplace=True)"
      ],
      "metadata": {
        "id": "p-Ld_iqrROhc"
      },
      "execution_count": 26,
      "outputs": []
    },
    {
      "cell_type": "markdown",
      "source": [
        "This code imports the train_test_split function from the model_selection module of the Scikit-learn library. The purpose of this function is to split a dataset into training and testing subsets, which are used for model training and evaluation, respectively.\n",
        "\n",
        "The code then assumes that the dataset is stored in a Pandas DataFrame named df. It creates a new DataFrame x by dropping the Time and Class columns from df. The x DataFrame contains the features (input variables) for the model. The code also creates a Series y by selecting the Class column from df. The y Series contains the target variable for the model.\n",
        "\n",
        "The train_test_split function is then called with the following arguments:\n",
        "\n",
        "- x and y are the feature and target variables, respectively.\n",
        "test_size is set to 0.2, which means that 20% of the dataset will be used for testing, and 80% for training.\n",
        "- stratify is set to y, which means that the splitting is done in a way that preserves the proportion of the target variable in each subset. This is useful if the target variable is imbalanced, meaning that there are more examples of one class than the others.\n",
        "- random_state is set to 0, which means that the splitting is done in a reproducible way, so that the same random splitting will be applied each time the code is run.\n",
        "\n",
        "Finally, the function returns four objects: x_train, x_test, y_train, and y_test, which are the training and testing subsets of the feature and target variables, respectively. These subsets can be used for training and evaluating a machine learning model."
      ],
      "metadata": {
        "id": "UlqNgbM6QQWM"
      }
    },
    {
      "cell_type": "code",
      "source": [
        "from sklearn.model_selection import train_test_split\n",
        "\n",
        "x = df.drop(['Time', 'Class'], axis=1)\n",
        "y = df['Class']\n",
        "\n",
        "x_train, x_test, y_train, y_test = train_test_split(x, y, test_size=0.2, stratify=y, random_state=0)"
      ],
      "metadata": {
        "id": "jkev3zv9P3st"
      },
      "execution_count": 27,
      "outputs": []
    },
    {
      "cell_type": "markdown",
      "source": [
        "This code imports the LogisticRegression class from the linear_model module of the Scikit-learn library, and creates a new instance of this class called lr_model. The LogisticRegression class is used to implement logistic regression, which is a popular classification algorithm in machine learning.\n",
        "\n",
        "The LogisticRegression constructor takes several optional parameters, which are used to configure the behavior of the model. In this case, two parameters are used:\n",
        "\n",
        "- random_state: This parameter is used to ensure that the results of the model are reproducible across different runs. It sets the seed for the random number generator used by the model.\n",
        "- max_iter: This parameter is used to set the maximum number of iterations that the solver should run. The solver is used to optimize the model parameters to fit the training data. Setting a higher value for max_iter can increase the accuracy of the model, but it also increases the training time.\n",
        "\n",
        "After creating the lr_model instance, the code calls the fit() method of the model to train the model on the training data. The fit() method takes two arguments:\n",
        "\n",
        "- x_train: This is the feature matrix (input data) for the training set.\n",
        "- y_train: This is the target vector (output data) for the training set.\n",
        "\n",
        "During training, the logistic regression algorithm learns the relationship between the input features and the output target, and finds the optimal values of the model parameters to minimize the error between the predicted output and the actual output on the training set.\n",
        "\n",
        "Once the model is trained, you can use it to make predictions on new data using the predict() method of the model."
      ],
      "metadata": {
        "id": "0r_trC1mRZVu"
      }
    },
    {
      "cell_type": "code",
      "source": [
        "from sklearn.linear_model import LogisticRegression\n",
        "\n",
        "lr_model = LogisticRegression(random_state=0, max_iter=5000)\n",
        "lr_model.fit(x_train, y_train)"
      ],
      "metadata": {
        "colab": {
          "base_uri": "https://localhost:8080/"
        },
        "id": "Kob-Yuw4Qzir",
        "outputId": "890659e1-3e0c-4440-c37a-91b663046341"
      },
      "execution_count": 28,
      "outputs": [
        {
          "output_type": "execute_result",
          "data": {
            "text/plain": [
              "LogisticRegression(max_iter=5000, random_state=0)"
            ]
          },
          "metadata": {},
          "execution_count": 28
        }
      ]
    },
    {
      "cell_type": "markdown",
      "source": [
        "This code imports the ConfusionMatrixDisplay class from the sklearn.metrics module of the Scikit-learn library, and creates a new instance of this class called cmd. The ConfusionMatrixDisplay class is used to generate and display a confusion matrix, which is a table that summarizes the performance of a classification model.\n",
        "\n",
        "The from_estimator() method of the ConfusionMatrixDisplay class is then called to generate the confusion matrix for the logistic regression model (lr_model) on the test set (x_test and y_test). The from_estimator() method takes several arguments:\n",
        "\n",
        "- estimator: This is the trained machine learning model (lr_model in this case) that will be evaluated using the test set.\n",
        "- X: This is the feature matrix (input data) for the test set.\n",
        "- y_true: This is the target vector (output data) for the test set.\n",
        "display_labels: This is a list of labels to use for the rows and columns of the confusion matrix. In this case, the labels are set to ['Legitimate', 'Fraudulent'].\n",
        "- cmap: This parameter specifies the color map to use for the display. In this case, the color map is set to 'Blues'.\n",
        "- xticks_rotation: This parameter specifies the rotation angle of the x-axis tick labels. In this case, the tick labels are rotated vertically for better visibility.\n",
        "\n",
        "Once the confusion matrix is generated, the cmd instance can be displayed using the plot() method. For example, you can run:\n",
        "\n",
        "This will display the confusion matrix for the logistic regression model. The confusion matrix displays the number of true positives (TP), false positives (FP), true negatives (TN), and false negatives (FN) for the model on the test set. The TP and TN values represent the number of correct predictions, while the FP and FN values represent the number of incorrect predictions."
      ],
      "metadata": {
        "id": "3vmZoIxIR0Tp"
      }
    },
    {
      "cell_type": "code",
      "source": [
        "%matplotlib inline\n",
        "from sklearn.metrics import ConfusionMatrixDisplay as cmd\n",
        "\n",
        "labels = ['Legitimate', 'Fraudulent']\n",
        "cmd.from_estimator(lr_model, x_test, y_test, display_labels=labels,\n",
        "                   cmap='Blues', xticks_rotation='vertical')"
      ],
      "metadata": {
        "colab": {
          "base_uri": "https://localhost:8080/",
          "height": 341
        },
        "id": "-83D9KhjRZ1X",
        "outputId": "01d13f1f-de71-4fa0-d446-3cf3c215403a"
      },
      "execution_count": 29,
      "outputs": [
        {
          "output_type": "execute_result",
          "data": {
            "text/plain": [
              "<sklearn.metrics._plot.confusion_matrix.ConfusionMatrixDisplay at 0x7fa9d52f98b0>"
            ]
          },
          "metadata": {},
          "execution_count": 29
        },
        {
          "output_type": "display_data",
          "data": {
            "text/plain": [
              "<Figure size 432x288 with 2 Axes>"
            ],
            "image/png": "[encoded data removed]"
          },
          "metadata": {
            "needs_background": "light"
          }
        }
      ]
    },
    {
      "cell_type": "markdown",
      "source": [
        "This code imports the RandomForestClassifier class from the ensemble module of the Scikit-learn library, and creates a new instance of this class called rf_model. The RandomForestClassifier class is used to implement a random forest algorithm, which is an ensemble learning method for classification tasks.\n",
        "\n",
        "The RandomForestClassifier constructor takes several optional parameters, which are used to configure the behavior of the model. In this case, one parameter is used:\n",
        "\n",
        "- random_state: This parameter is used to ensure that the results of the model are reproducible across different runs. It sets the seed for the random number generator used by the model.\n",
        "\n",
        "After creating the rf_model instance, the code calls the fit() method of the model to train the model on the training data. The fit() method takes two arguments:\n",
        "\n",
        "- x_train: This is the feature matrix (input data) for the training set.\n",
        "- y_train: This is the target vector (output data) for the training set.\n",
        "\n",
        "During training, the random forest algorithm builds a collection of decision trees based on random subsets of the input features and data points. The algorithm then aggregates the output of these individual trees to produce a final prediction for a given input.\n",
        "\n",
        "Once the model is trained, the code generates a confusion matrix for the model using the from_estimator() method of the ConfusionMatrixDisplay class, which is similar to what was done for the logistic regression model. The from_estimator() method takes the same arguments as before, but this time it takes the trained random forest model (rf_model) as the first argument instead of the logistic regression model.\n",
        "\n",
        "After generating the confusion matrix using cmd.from_estimator(), the confusion matrix can be displayed using the plot() method of the cmd instance.\n",
        "\n",
        "Note that because the random forest algorithm is a more complex model than logistic regression, it may take longer to train and may require more resources to run. However, it can often achieve higher accuracy on complex classification tasks."
      ],
      "metadata": {
        "id": "IkecReFUSPh1"
      }
    },
    {
      "cell_type": "code",
      "source": [
        "from sklearn.ensemble import RandomForestClassifier\n",
        "\n",
        "rf_model = RandomForestClassifier(random_state=0)\n",
        "rf_model.fit(x_train, y_train)\n",
        "\n",
        "cmd.from_estimator(rf_model, x_test, y_test, display_labels=labels,\n",
        "                   cmap='Blues', xticks_rotation='vertical')"
      ],
      "metadata": {
        "colab": {
          "base_uri": "https://localhost:8080/",
          "height": 341
        },
        "id": "_TKYd3xgR3oH",
        "outputId": "78b083c3-3d10-480e-bdd0-30c5d251e1e2"
      },
      "execution_count": 30,
      "outputs": [
        {
          "output_type": "execute_result",
          "data": {
            "text/plain": [
              "<sklearn.metrics._plot.confusion_matrix.ConfusionMatrixDisplay at 0x7fa9cf892b20>"
            ]
          },
          "metadata": {},
          "execution_count": 30
        },
        {
          "output_type": "display_data",
          "data": {
            "text/plain": [
              "<Figure size 432x288 with 2 Axes>"
            ],
            "image/png": "[encoded data removed]"
          },
          "metadata": {
            "needs_background": "light"
          }
        }
      ]
    },
    {
      "cell_type": "markdown",
      "source": [
        "This code imports the GradientBoostingClassifier class from the ensemble module of the Scikit-learn library, and creates a new instance of this class called gbm_model. The GradientBoostingClassifier class is used to implement a gradient boosting algorithm, which is another ensemble learning method for classification tasks.\n",
        "\n",
        "The GradientBoostingClassifier constructor takes several optional parameters, which are used to configure the behavior of the model. In this case, one parameter is used:\n",
        "\n",
        "- random_state: This parameter is used to ensure that the results of the model are reproducible across different runs. It sets the seed for the random number generator used by the model.\n",
        "\n",
        "After creating the gbm_model instance, the code calls the fit() method of the model to train the model on the training data. The fit() method takes two arguments:\n",
        "\n",
        "- x_train: This is the feature matrix (input data) for the training set.\n",
        "- y_train: This is the target vector (output data) for the training set.\n",
        "\n",
        "During training, the gradient boosting algorithm builds an ensemble of decision trees sequentially, with each tree built to correct the errors of the previous tree. The algorithm uses gradient descent to minimize a loss function that measures the difference between the model's predictions and the actual targets.\n",
        "\n",
        "Once the model is trained, the code generates a confusion matrix for the model using the from_estimator() method of the ConfusionMatrixDisplay class, which is similar to what was done for the logistic regression and random forest models. The from_estimator() method takes the same arguments as before, but this time it takes the trained gradient boosting model (gbm_model) as the first argument instead of the logistic regression or random forest model.\n",
        "\n",
        "After generating the confusion matrix using cmd.from_estimator(), the confusion matrix can be displayed using the plot() method of the cmd instance.\n",
        "\n",
        "Note that because the gradient boosting algorithm is also a complex model, it may take longer to train and may require more resources to run. However, it can often achieve higher accuracy on complex classification tasks than simpler models like logistic regression."
      ],
      "metadata": {
        "id": "IHaB6qSqSrEd"
      }
    },
    {
      "cell_type": "code",
      "source": [
        "from sklearn.ensemble import GradientBoostingClassifier\n",
        "\n",
        "gbm_model = GradientBoostingClassifier(random_state=0)\n",
        "gbm_model.fit(x_train, y_train)\n",
        "\n",
        "cmd.from_estimator(gbm_model, x_test, y_test, display_labels=labels,\n",
        "                   cmap='Blues', xticks_rotation='vertical')"
      ],
      "metadata": {
        "colab": {
          "base_uri": "https://localhost:8080/",
          "height": 341
        },
        "id": "KMrXZ8YCSQMl",
        "outputId": "1625594a-f622-4e65-9548-cbb7ddb26af1"
      },
      "execution_count": 31,
      "outputs": [
        {
          "output_type": "execute_result",
          "data": {
            "text/plain": [
              "<sklearn.metrics._plot.confusion_matrix.ConfusionMatrixDisplay at 0x7fa9cf5d8eb0>"
            ]
          },
          "metadata": {},
          "execution_count": 31
        },
        {
          "output_type": "display_data",
          "data": {
            "text/plain": [
              "<Figure size 432x288 with 2 Axes>"
            ],
            "image/png": "[encoded data removed]"
          },
          "metadata": {
            "needs_background": "light"
          }
        }
      ]
    },
    {
      "cell_type": "markdown",
      "source": [
        "This code computes several evaluation metrics for the random forest classifier that was trained and tested earlier.\n",
        "\n",
        "After training the random forest classifier rf_model and predicting the labels of the test set, the code uses the precision_score and recall_score functions from Scikit-learn to compute the precision and recall of the classifier. These are two commonly used evaluation metrics for binary classification tasks.\n",
        "\n",
        "- Precision measures the proportion of true positive predictions among all positive predictions, and is given by: TP / (TP + FP), where TP is the number of true positives (fraudulent transactions correctly predicted as fraudulent) and FP is the number of false positives (legitimate transactions incorrectly predicted as fraudulent). High precision indicates that the classifier produces few false positive predictions.\n",
        "- Recall (also known as sensitivity) measures the proportion of true positive predictions among all actual positive cases, and is given by: TP / (TP + FN), where FN is the number of false negatives (fraudulent transactions incorrectly predicted as legitimate). High recall indicates that the classifier produces few false negative predictions.\n",
        "\n",
        "The code also computes the specificity, which is the proportion of true negative predictions among all actual negative cases. Specifically, it uses the recall_score function with the pos_label=0 argument to compute the recall of the negative class (legitimate transactions) and interprets it as the specificity. The formula for specificity is: TN / (TN + FP), where TN is the number of true negatives (legitimate transactions correctly predicted as legitimate) and FP is the number of false positives.\n",
        "\n",
        "Finally, the code prints out the computed values of precision, recall, sensitivity, and specificity using f-strings to format the output."
      ],
      "metadata": {
        "id": "T6ENsMGbTDi5"
      }
    },
    {
      "cell_type": "code",
      "source": [
        "from sklearn.metrics import precision_score, recall_score\n",
        "\n",
        "y_pred = rf_model.predict(x_test)\n",
        "precision = precision_score(y_test, y_pred)\n",
        "recall = recall_score(y_test, y_pred)\n",
        "sensitivity = recall\n",
        "specificity = recall_score(y_test, y_pred, pos_label=0)\n",
        "\n",
        "print(f'Precision: {precision}')\n",
        "print(f'Recall: {recall}')\n",
        "print(f'Sensitivity: {sensitivity}')\n",
        "print(f'Specificity: {specificity}')"
      ],
      "metadata": {
        "colab": {
          "base_uri": "https://localhost:8080/"
        },
        "id": "7PNeVJbxSs52",
        "outputId": "ec9cf8bc-cfa3-4ad2-f68f-86a856a8069e"
      },
      "execution_count": 32,
      "outputs": [
        {
          "output_type": "stream",
          "name": "stdout",
          "text": [
            "Precision: 0.9\n",
            "Recall: 0.75\n",
            "Sensitivity: 0.75\n",
            "Specificity: 0.9998194375479619\n"
          ]
        }
      ]
    },
    {
      "cell_type": "markdown",
      "source": [
        "# Building a Digit Recognition Model\n",
        "\n",
        "This code loads the digits dataset from the Scikit-learn datasets module, which is a collection of handwritten digits images. The digits variable is a dictionary-like object that contains various fields, including the images and the target labels.\n",
        "\n",
        "The code then prints out the shapes of the digits.images and digits.target arrays using the shape attribute.\n",
        "\n",
        "- The digits.images array contains the pixel intensities of the images and has a shape of (1797, 8, 8), which means that there are 1797 images in the dataset, each with a size of 8 by 8 pixels.\n",
        "- The digits.target array contains the target labels for each image, indicating which digit the image represents. It has a shape of (1797,), which means that it is a 1-dimensional array of length 1797."
      ],
      "metadata": {
        "id": "C3DQNPBsTY-t"
      }
    },
    {
      "cell_type": "code",
      "source": [
        "from sklearn import datasets\n",
        "\n",
        "digits = datasets.load_digits()\n",
        "print('digits.images: ' + str(digits.images.shape))\n",
        "print('digits.target: ' + str(digits.target.shape))"
      ],
      "metadata": {
        "colab": {
          "base_uri": "https://localhost:8080/"
        },
        "id": "49weuJfxTYG6",
        "outputId": "be7d02f4-2427-4a80-96e6-ba09a0d0d5a0"
      },
      "execution_count": 33,
      "outputs": [
        {
          "output_type": "stream",
          "name": "stdout",
          "text": [
            "digits.images: (1797, 8, 8)\n",
            "digits.target: (1797,)\n"
          ]
        }
      ]
    },
    {
      "cell_type": "markdown",
      "source": [
        "This code retrieves the first image in the digits.images array, which is a 2-dimensional array of shape (8, 8) containing the pixel intensities of the image.\n",
        "\n",
        "The digits.images array is a 3-dimensional array of shape (1797, 8, 8), where the first dimension corresponds to the number of images and the last two dimensions correspond to the size of each image (8 by 8 pixels). By indexing with [0], the code selects the first image in the array, which is a 2-dimensional array of shape (8, 8).\n",
        "\n",
        "Each element in the array represents the grayscale intensity of a pixel in the image, ranging from 0 (black) to 15 (white)."
      ],
      "metadata": {
        "id": "_fPbz4u5U5-R"
      }
    },
    {
      "cell_type": "code",
      "source": [
        "digits.images[0]"
      ],
      "metadata": {
        "colab": {
          "base_uri": "https://localhost:8080/"
        },
        "id": "AIvvtLMQT61W",
        "outputId": "f6d39e58-7dba-4eae-d6ee-48cd6ce72c97"
      },
      "execution_count": 34,
      "outputs": [
        {
          "output_type": "execute_result",
          "data": {
            "text/plain": [
              "array([[ 0.,  0.,  5., 13.,  9.,  1.,  0.,  0.],\n",
              "       [ 0.,  0., 13., 15., 10., 15.,  5.,  0.],\n",
              "       [ 0.,  3., 15.,  2.,  0., 11.,  8.,  0.],\n",
              "       [ 0.,  4., 12.,  0.,  0.,  8.,  8.,  0.],\n",
              "       [ 0.,  5.,  8.,  0.,  0.,  9.,  8.,  0.],\n",
              "       [ 0.,  4., 11.,  0.,  1., 12.,  7.,  0.],\n",
              "       [ 0.,  2., 14.,  5., 10., 12.,  0.,  0.],\n",
              "       [ 0.,  0.,  6., 13., 10.,  0.,  0.,  0.]])"
            ]
          },
          "metadata": {},
          "execution_count": 34
        }
      ]
    },
    {
      "cell_type": "markdown",
      "source": [
        "This code visualizes the first image in the digits.images array using matplotlib.\n",
        "\n",
        "The code first sets various tick parameters to remove the ticks and labels from the plot using the tick_params function.\n",
        "\n",
        "The code then uses the imshow function to display the image. The cmap parameter sets the colormap to gray_r, which is a grayscale colormap with reversed intensity. This means that the darker pixels have higher intensity values, which makes the image easier to see.\n",
        "\n",
        "Overall, the code displays the first image in the digits dataset as a grayscale image."
      ],
      "metadata": {
        "id": "5KJeS9vkU7sm"
      }
    },
    {
      "cell_type": "code",
      "source": [
        "%matplotlib inline\n",
        "import matplotlib.pyplot as plt\n",
        "\n",
        "plt.tick_params(axis='both', which='both', bottom=False, top=False, left=False,\n",
        "                right=False, labelbottom=False, labelleft=False)\n",
        "plt.imshow(digits.images[0], cmap=plt.cm.gray_r)"
      ],
      "metadata": {
        "colab": {
          "base_uri": "https://localhost:8080/",
          "height": 266
        },
        "id": "i9w_k835T9UU",
        "outputId": "a614142e-8b36-47a1-8483-c82db7a5b0b7"
      },
      "execution_count": 35,
      "outputs": [
        {
          "output_type": "execute_result",
          "data": {
            "text/plain": [
              "<matplotlib.image.AxesImage at 0x7fa9d363a610>"
            ]
          },
          "metadata": {},
          "execution_count": 35
        },
        {
          "output_type": "display_data",
          "data": {
            "text/plain": [
              "<Figure size 432x288 with 1 Axes>"
            ],
            "image/png": "[encoded data removed]"
          },
          "metadata": {}
        }
      ]
    },
    {
      "cell_type": "markdown",
      "source": [
        "This code retrieves the first target label in the digits.target array, which is an integer indicating the digit that the first image in the digits.images array represents.\n",
        "\n",
        "The digits.target array is a 1-dimensional array of shape (1797,) that contains the target labels for each image in the digits.images array. The target label of the first image is stored in the first element of the array, which is accessed by indexing with [0].\n",
        "\n",
        "In this case, digits.target[0] is 0, which means that the first image in the dataset represents the digit 0."
      ],
      "metadata": {
        "id": "-MGQZBooVFn8"
      }
    },
    {
      "cell_type": "code",
      "source": [
        "digits.target[0]"
      ],
      "metadata": {
        "colab": {
          "base_uri": "https://localhost:8080/"
        },
        "id": "tjfSXjoAT_Ah",
        "outputId": "853c610d-baa6-41df-b902-dfd8135c1bc5"
      },
      "execution_count": 36,
      "outputs": [
        {
          "output_type": "execute_result",
          "data": {
            "text/plain": [
              "0"
            ]
          },
          "metadata": {},
          "execution_count": 36
        }
      ]
    },
    {
      "cell_type": "markdown",
      "source": [
        "This code displays the first 50 images in the digits dataset, along with their corresponding target labels, as a 5x10 grid of subplots using matplotlib.\n",
        "\n",
        "The plt.subplots function creates a figure with 5 rows and 10 columns of subplots, each with no tick marks. The figsize parameter sets the size of the figure, and the subplot_kw parameter sets the tick parameters for each subplot.\n",
        "\n",
        "The code then uses a for loop to iterate over the first 50 elements of the digits.images and digits.target arrays. For each element, the code displays the corresponding image in a subplot using ax.imshow, and displays the corresponding target label above the image using ax.text.\n",
        "\n",
        "Overall, the code displays a grid of subplots, where each subplot shows an image and its corresponding target label. The images are displayed as grayscale images, and the target labels are displayed above each image."
      ],
      "metadata": {
        "id": "tAbYAxxoVLGT"
      }
    },
    {
      "cell_type": "code",
      "source": [
        "fig, axes = plt.subplots(5, 10, figsize=(12, 7),\n",
        "                         subplot_kw={'xticks': [], 'yticks': []})\n",
        "\n",
        "for i, ax in enumerate(axes.flat):\n",
        "    ax.imshow(digits.images[i], cmap=plt.cm.gray_r)\n",
        "    ax.text(0.45, 1.05, str(digits.target[i]), transform=ax.transAxes)"
      ],
      "metadata": {
        "colab": {
          "base_uri": "https://localhost:8080/",
          "height": 417
        },
        "id": "XeFCpBfdUBDr",
        "outputId": "81644f00-1862-4f61-c2bb-826c77b6f5a3"
      },
      "execution_count": 37,
      "outputs": [
        {
          "output_type": "display_data",
          "data": {
            "text/plain": [
              "<Figure size 864x504 with 50 Axes>"
            ],
            "image/png": "[encoded data removed]"
          },
          "metadata": {}
        }
      ]
    },
    {
      "cell_type": "markdown",
      "source": [
        "This code creates a histogram of the target labels in the digits dataset using matplotlib.\n",
        "\n",
        "The plt.xticks([]) function removes the tick marks from the x-axis of the plot.\n",
        "\n",
        "The plt.hist function creates a histogram of the digits.target array, with rwidth=0.9 setting the relative width of the bars in the histogram to 0.9. This means that the bars are slightly narrower than the default width.\n",
        "\n",
        "Overall, the code displays a histogram of the target labels in the digits dataset, with the x-axis showing the target labels and the y-axis showing the frequency of each target label. The histogram indicates that there are roughly equal numbers of images for each digit from 0 to 9 in the dataset."
      ],
      "metadata": {
        "id": "TcJpCLaBVVL4"
      }
    },
    {
      "cell_type": "code",
      "source": [
        "plt.xticks([])\n",
        "plt.hist(digits.target, rwidth=0.9)"
      ],
      "metadata": {
        "colab": {
          "base_uri": "https://localhost:8080/",
          "height": 308
        },
        "id": "PJic7IW3UFgW",
        "outputId": "ffd9da83-1131-4d0c-b1d4-dd3151e51529"
      },
      "execution_count": 38,
      "outputs": [
        {
          "output_type": "execute_result",
          "data": {
            "text/plain": [
              "(array([178., 182., 177., 183., 181., 182., 181., 179., 174., 180.]),\n",
              " array([0. , 0.9, 1.8, 2.7, 3.6, 4.5, 5.4, 6.3, 7.2, 8.1, 9. ]),\n",
              " <a list of 10 Patch objects>)"
            ]
          },
          "metadata": {},
          "execution_count": 38
        },
        {
          "output_type": "display_data",
          "data": {
            "text/plain": [
              "<Figure size 432x288 with 1 Axes>"
            ],
            "image/png": "[encoded data removed]"
          },
          "metadata": {
            "needs_background": "light"
          }
        }
      ]
    },
    {
      "cell_type": "markdown",
      "source": [
        "This code splits the digits dataset into training and testing sets, and trains a logistic regression model on the training data using scikit-learn.\n",
        "\n",
        "The train_test_split function from scikit-learn is used to split the digits.data and digits.target arrays into training and testing sets, with the testing set size set to 20% of the total data and the random state set to 0 for reproducibility.\n",
        "\n",
        "The code then creates a logistic regression model using the LogisticRegression class from scikit-learn, with max_iter=5000 setting the maximum number of iterations for the solver.\n",
        "\n",
        "Finally, the model is trained on the training data using the fit method of the logistic regression object, with x_train and y_train as inputs. The trained model can then be used to make predictions on the testing data using the predict method of the logistic regression object."
      ],
      "metadata": {
        "id": "KVzoU_mWVdqR"
      }
    },
    {
      "cell_type": "code",
      "source": [
        "from sklearn.linear_model import LogisticRegression\n",
        "from sklearn.model_selection import train_test_split\n",
        "\n",
        "x_train, x_test, y_train, y_test = train_test_split(\n",
        "    digits.data, digits.target, test_size=0.2, random_state=0)\n",
        "\n",
        "model = LogisticRegression(max_iter=5000)\n",
        "model.fit(x_train, y_train)"
      ],
      "metadata": {
        "colab": {
          "base_uri": "https://localhost:8080/"
        },
        "id": "CQkt7vDqUIhT",
        "outputId": "b020030e-8c29-42aa-af5f-2880ac056824"
      },
      "execution_count": 39,
      "outputs": [
        {
          "output_type": "execute_result",
          "data": {
            "text/plain": [
              "LogisticRegression(max_iter=5000)"
            ]
          },
          "metadata": {},
          "execution_count": 39
        }
      ]
    },
    {
      "cell_type": "markdown",
      "source": [
        "The score method of a scikit-learn model returns the mean accuracy on the given test data and labels.\n",
        "\n",
        "In this case, model.score(x_test, y_test) returns the mean accuracy of the logistic regression model on the testing data (x_test) and labels (y_test). The accuracy is a measure of how well the model predicts the correct digit for each image in the testing data. Specifically, it is the proportion of correct predictions made by the model.\n",
        "\n",
        "This code computes the mean accuracy of the logistic regression model on the testing data and prints the result. The output value ranges from 0 to 1, where 1 indicates perfect accuracy and 0 indicates the model made no correct predictions."
      ],
      "metadata": {
        "id": "4WWW-xZeVhEo"
      }
    },
    {
      "cell_type": "code",
      "source": [
        "model.score(x_test, y_test)"
      ],
      "metadata": {
        "colab": {
          "base_uri": "https://localhost:8080/"
        },
        "id": "MwL8aMJzUKki",
        "outputId": "8d1c9254-1779-4c8b-cc45-f9c8257729f7"
      },
      "execution_count": 40,
      "outputs": [
        {
          "output_type": "execute_result",
          "data": {
            "text/plain": [
              "0.9583333333333334"
            ]
          },
          "metadata": {},
          "execution_count": 40
        }
      ]
    },
    {
      "cell_type": "markdown",
      "source": [
        "This code generates a confusion matrix plot for the logistic regression model on the testing data using ConfusionMatrixDisplay from sklearn.metrics. A confusion matrix is a table that summarizes the performance of a classifier by comparing predicted and actual labels.\n",
        "\n",
        "The plot displays the confusion matrix in a heatmap format using the cmap parameter. The diagonal represents the number of correct predictions for each digit, while off-diagonal values indicate misclassifications. The color of each cell corresponds to the count of data points.\n",
        "\n",
        "The colorbar parameter is set to False to remove the colorbar in the plot. ax.grid(False) is used to remove grid lines from the plot.\n",
        "\n",
        "The sns.set() command sets the default style for the plot using the Seaborn package."
      ],
      "metadata": {
        "id": "iyf1pp8pVh9i"
      }
    },
    {
      "cell_type": "code",
      "source": [
        "%matplotlib inline\n",
        "import matplotlib.pyplot as plt\n",
        "from sklearn.metrics import ConfusionMatrixDisplay as cmd\n",
        "import seaborn as sns\n",
        "sns.set()\n",
        "\n",
        "fig, ax = plt.subplots(figsize=(8, 8))\n",
        "ax.grid(False)\n",
        "cmd.from_estimator(model, x_test, y_test, cmap='Blues', colorbar=False, ax=ax)"
      ],
      "metadata": {
        "colab": {
          "base_uri": "https://localhost:8080/",
          "height": 520
        },
        "id": "7TMkefZVUP2p",
        "outputId": "1a4b90ac-edd9-48a9-eb0f-a473f9b0408f"
      },
      "execution_count": 41,
      "outputs": [
        {
          "output_type": "execute_result",
          "data": {
            "text/plain": [
              "<sklearn.metrics._plot.confusion_matrix.ConfusionMatrixDisplay at 0x7fa9ce56b550>"
            ]
          },
          "metadata": {},
          "execution_count": 41
        },
        {
          "output_type": "display_data",
          "data": {
            "text/plain": [
              "<Figure size 576x576 with 1 Axes>"
            ],
            "image/png": "[encoded data removed]"
          },
          "metadata": {}
        }
      ]
    },
    {
      "cell_type": "markdown",
      "source": [
        "The first line sns.reset_orig() undoes the sns.set() command used in the previous code cell, which resets the default style to the original matplotlib style.\n",
        "\n",
        "The code then displays the image for the digit at index 100 from the digits dataset using plt.imshow(). The cmap parameter is set to plt.cm.gray_r to display the image in grayscale. The tick_params() function is used to remove the tick marks and labels on the x and y axes."
      ],
      "metadata": {
        "id": "LqaqJEiRVisK"
      }
    },
    {
      "cell_type": "code",
      "source": [
        "sns.reset_orig() # Undo sns.set()\n",
        "plt.tick_params(axis='both', which='both', bottom=False, top=False, left=False,\n",
        "                right=False, labelbottom=False, labelleft=False)\n",
        "plt.imshow(digits.images[100], cmap=plt.cm.gray_r)"
      ],
      "metadata": {
        "colab": {
          "base_uri": "https://localhost:8080/",
          "height": 266
        },
        "id": "bfQsGPVoUSJ4",
        "outputId": "65e1ef18-4712-498e-ad3f-b0ec56820976"
      },
      "execution_count": 42,
      "outputs": [
        {
          "output_type": "execute_result",
          "data": {
            "text/plain": [
              "<matplotlib.image.AxesImage at 0x7fa9ced755e0>"
            ]
          },
          "metadata": {},
          "execution_count": 42
        },
        {
          "output_type": "display_data",
          "data": {
            "text/plain": [
              "<Figure size 432x288 with 1 Axes>"
            ],
            "image/png": "[encoded data removed]"
          },
          "metadata": {}
        }
      ]
    },
    {
      "cell_type": "markdown",
      "source": [
        "model.predict([digits.data[100]])[0] predicts the target value of the digit at index 100 in the digits dataset using the trained logistic regression model model. The input to model.predict() is a list of one element, digits.data[100], which is a 1D array of length 64 containing the pixel values of the digit image at index 100.\n",
        "\n",
        "The predicted target value for this image is 4."
      ],
      "metadata": {
        "id": "fKtZTNkKVjTB"
      }
    },
    {
      "cell_type": "code",
      "source": [
        "model.predict([digits.data[100]])[0]"
      ],
      "metadata": {
        "colab": {
          "base_uri": "https://localhost:8080/"
        },
        "id": "NGHr_5RHUV5X",
        "outputId": "d9cd96e3-bd4e-4b36-9f99-c153d12dd9de"
      },
      "execution_count": 43,
      "outputs": [
        {
          "output_type": "execute_result",
          "data": {
            "text/plain": [
              "4"
            ]
          },
          "metadata": {},
          "execution_count": 43
        }
      ]
    },
    {
      "cell_type": "markdown",
      "source": [
        "model.predict_proba([digits.data[100]]) returns the predicted probabilities for each target class for the digit at index 100 in the digits dataset using the trained logistic regression model model. The input to model.predict_proba() is a list of one element, digits.data[100], which is a 1D array of length 64 containing the pixel values of the digit image at index 100.\n",
        "\n",
        "Since there are 10 possible target classes in the digits dataset (0 through 9), the output of model.predict_proba() is an array of shape (1, 10), where the i-th element of the array represents the predicted probability that the digit belongs to class i."
      ],
      "metadata": {
        "id": "9tdV5lqPWbgW"
      }
    },
    {
      "cell_type": "code",
      "source": [
        "model.predict_proba([digits.data[100]])"
      ],
      "metadata": {
        "colab": {
          "base_uri": "https://localhost:8080/"
        },
        "id": "UEkL5SYPUYFz",
        "outputId": "a7124153-ae43-468b-a868-65387eb24098"
      },
      "execution_count": 44,
      "outputs": [
        {
          "output_type": "execute_result",
          "data": {
            "text/plain": [
              "array([[6.43523576e-11, 5.01282211e-09, 9.41221272e-21, 3.62822959e-22,\n",
              "        9.99999987e-01, 1.12858978e-15, 7.31895740e-09, 1.55121447e-10,\n",
              "        2.46197046e-12, 6.01922718e-22]])"
            ]
          },
          "metadata": {},
          "execution_count": 44
        }
      ]
    },
    {
      "cell_type": "markdown",
      "source": [
        "The line model.predict_proba([digits.data[100]])[0][4] returns the probability that the image at index 100 in the dataset represents the digit 4. The predict_proba method returns the predicted probabilities of each class, and in this case we are selecting the probability of the digit 4, which is the 5th element in the array (Python uses 0-based indexing)."
      ],
      "metadata": {
        "id": "_Qa8cIgNVj_c"
      }
    },
    {
      "cell_type": "code",
      "source": [
        "model.predict_proba([digits.data[100]])[0][4]\n"
      ],
      "metadata": {
        "colab": {
          "base_uri": "https://localhost:8080/"
        },
        "id": "FyUCHKrxUZ_f",
        "outputId": "eaa45a2f-65c5-4f31-8944-57793389748d"
      },
      "execution_count": 45,
      "outputs": [
        {
          "output_type": "execute_result",
          "data": {
            "text/plain": [
              "0.9999999874462836"
            ]
          },
          "metadata": {},
          "execution_count": 45
        }
      ]
    }
  ]
}