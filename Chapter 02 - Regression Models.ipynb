{
  "nbformat": 4,
  "nbformat_minor": 0,
  "metadata": {
    "colab": {
      "provenance": [],
      "authorship_tag": "ABX9TyOInGInuVEN8iaa3rLyNuLz"
    },
    "kernelspec": {
      "name": "python3",
      "display_name": "Python 3"
    },
    "language_info": {
      "name": "python"
    }
  },
  "cells": [
    {
      "cell_type": "markdown",
      "source": [
        "# Accuracy Measures for Regression Models"
      ],
      "metadata": {
        "id": "YLlbplAMEuDZ"
      }
    },
    {
      "cell_type": "markdown",
      "source": [
        "The fetch_california_housing function is a utility function provided by scikit-learn to load the California housing dataset, which is a popular regression dataset often used in machine learning tutorials and examples.\n",
        "\n",
        "The shuffle function is another utility function provided by scikit-learn, which can be used to shuffle the rows of a dataset randomly. This can be useful for ensuring that the data is evenly distributed across cross-validation folds, or for creating a more diverse training set when the original data is sorted or biased in some way."
      ],
      "metadata": {
        "id": "DlrzwcRjMX3y"
      }
    },
    {
      "cell_type": "code",
      "execution_count": 1,
      "metadata": {
        "id": "Xk01nMUTEHHO"
      },
      "outputs": [],
      "source": [
        "from sklearn.utils import shuffle\n",
        "from sklearn.datasets import fetch_california_housing"
      ]
    },
    {
      "cell_type": "markdown",
      "source": [
        "This code uses the fetch_california_housing function to load the California housing dataset as a Pandas dataframe with the as_frame=True option. It then shuffles the rows of the dataframe randomly using the shuffle function from scikit-learn. The random_state parameter is set to 0 to ensure reproducibility of the results.\n",
        "\n",
        "Next, the code selects the first 1000 rows of the shuffled dataframe using the head method and assigns the result back to df.\n",
        "\n",
        "Finally, the head method is called on the resulting dataframe to display the first few rows. This will allow you to verify that the data has been loaded and preprocessed correctly.\n",
        "\n",
        "Overall, this code loads and preprocesses a subset of the California housing dataset, shuffles the rows randomly, and selects the first 1000 rows for further analysis. The resulting dataframe can be used for training and evaluating a regression model."
      ],
      "metadata": {
        "id": "LgTWZziGMa63"
      }
    },
    {
      "cell_type": "code",
      "source": [
        "df = fetch_california_housing(as_frame=True).frame\n",
        "df = shuffle(df, random_state=0)\n",
        "df = df.head(1000)\n",
        "df.head()"
      ],
      "metadata": {
        "colab": {
          "base_uri": "https://localhost:8080/",
          "height": 206
        },
        "id": "fHt0lJxQE8EJ",
        "outputId": "f3ed09e9-5a7b-42c3-8327-05ba51293211"
      },
      "execution_count": 2,
      "outputs": [
        {
          "output_type": "execute_result",
          "data": {
            "text/plain": [
              "       MedInc  HouseAge  AveRooms  AveBedrms  Population  AveOccup  Latitude  \\\n",
              "14740  4.1518      22.0  5.663073   1.075472      1551.0  4.180593     32.58   \n",
              "10101  5.7796      32.0  6.107226   0.927739      1296.0  3.020979     33.92   \n",
              "20566  4.3487      29.0  5.930712   1.026217      1554.0  2.910112     38.65   \n",
              "2670   2.4511      37.0  4.992958   1.316901       390.0  2.746479     33.20   \n",
              "15709  5.0049      25.0  4.319261   1.039578       649.0  1.712401     37.79   \n",
              "\n",
              "       Longitude  MedHouseVal  \n",
              "14740    -117.05        1.369  \n",
              "10101    -117.97        2.413  \n",
              "20566    -121.84        2.007  \n",
              "2670     -115.60        0.725  \n",
              "15709    -122.43        4.600  "
            ],
            "text/html": [
              "\n",
              "  <div id=\"df-7fa2c2e1-1de8-483c-8e37-7bf31470ae05\">\n",
              "    <div class=\"colab-df-container\">\n",
              "      <div>\n",
              "<style scoped>\n",
              "    .dataframe tbody tr th:only-of-type {\n",
              "        vertical-align: middle;\n",
              "    }\n",
              "\n",
              "    .dataframe tbody tr th {\n",
              "        vertical-align: top;\n",
              "    }\n",
              "\n",
              "    .dataframe thead th {\n",
              "        text-align: right;\n",
              "    }\n",
              "</style>\n",
              "<table border=\"1\" class=\"dataframe\">\n",
              "  <thead>\n",
              "    <tr style=\"text-align: right;\">\n",
              "      <th></th>\n",
              "      <th>MedInc</th>\n",
              "      <th>HouseAge</th>\n",
              "      <th>AveRooms</th>\n",
              "      <th>AveBedrms</th>\n",
              "      <th>Population</th>\n",
              "      <th>AveOccup</th>\n",
              "      <th>Latitude</th>\n",
              "      <th>Longitude</th>\n",
              "      <th>MedHouseVal</th>\n",
              "    </tr>\n",
              "  </thead>\n",
              "  <tbody>\n",
              "    <tr>\n",
              "      <th>14740</th>\n",
              "      <td>4.1518</td>\n",
              "      <td>22.0</td>\n",
              "      <td>5.663073</td>\n",
              "      <td>1.075472</td>\n",
              "      <td>1551.0</td>\n",
              "      <td>4.180593</td>\n",
              "      <td>32.58</td>\n",
              "      <td>-117.05</td>\n",
              "      <td>1.369</td>\n",
              "    </tr>\n",
              "    <tr>\n",
              "      <th>10101</th>\n",
              "      <td>5.7796</td>\n",
              "      <td>32.0</td>\n",
              "      <td>6.107226</td>\n",
              "      <td>0.927739</td>\n",
              "      <td>1296.0</td>\n",
              "      <td>3.020979</td>\n",
              "      <td>33.92</td>\n",
              "      <td>-117.97</td>\n",
              "      <td>2.413</td>\n",
              "    </tr>\n",
              "    <tr>\n",
              "      <th>20566</th>\n",
              "      <td>4.3487</td>\n",
              "      <td>29.0</td>\n",
              "      <td>5.930712</td>\n",
              "      <td>1.026217</td>\n",
              "      <td>1554.0</td>\n",
              "      <td>2.910112</td>\n",
              "      <td>38.65</td>\n",
              "      <td>-121.84</td>\n",
              "      <td>2.007</td>\n",
              "    </tr>\n",
              "    <tr>\n",
              "      <th>2670</th>\n",
              "      <td>2.4511</td>\n",
              "      <td>37.0</td>\n",
              "      <td>4.992958</td>\n",
              "      <td>1.316901</td>\n",
              "      <td>390.0</td>\n",
              "      <td>2.746479</td>\n",
              "      <td>33.20</td>\n",
              "      <td>-115.60</td>\n",
              "      <td>0.725</td>\n",
              "    </tr>\n",
              "    <tr>\n",
              "      <th>15709</th>\n",
              "      <td>5.0049</td>\n",
              "      <td>25.0</td>\n",
              "      <td>4.319261</td>\n",
              "      <td>1.039578</td>\n",
              "      <td>649.0</td>\n",
              "      <td>1.712401</td>\n",
              "      <td>37.79</td>\n",
              "      <td>-122.43</td>\n",
              "      <td>4.600</td>\n",
              "    </tr>\n",
              "  </tbody>\n",
              "</table>\n",
              "</div>\n",
              "      <button class=\"colab-df-convert\" onclick=\"convertToInteractive('df-7fa2c2e1-1de8-483c-8e37-7bf31470ae05')\"\n",
              "              title=\"Convert this dataframe to an interactive table.\"\n",
              "              style=\"display:none;\">\n",
              "        \n",
              "  <svg xmlns=\"http://www.w3.org/2000/svg\" height=\"24px\"viewBox=\"0 0 24 24\"\n",
              "       width=\"24px\">\n",
              "    <path d=\"M0 0h24v24H0V0z\" fill=\"none\"/>\n",
              "    <path d=\"M18.56 5.44l.94 2.06.94-2.06 2.06-.94-2.06-.94-.94-2.06-.94 2.06-2.06.94zm-11 1L8.5 8.5l.94-2.06 2.06-.94-2.06-.94L8.5 2.5l-.94 2.06-2.06.94zm10 10l.94 2.06.94-2.06 2.06-.94-2.06-.94-.94-2.06-.94 2.06-2.06.94z\"/><path d=\"M17.41 7.96l-1.37-1.37c-.4-.4-.92-.59-1.43-.59-.52 0-1.04.2-1.43.59L10.3 9.45l-7.72 7.72c-.78.78-.78 2.05 0 2.83L4 21.41c.39.39.9.59 1.41.59.51 0 1.02-.2 1.41-.59l7.78-7.78 2.81-2.81c.8-.78.8-2.07 0-2.86zM5.41 20L4 18.59l7.72-7.72 1.47 1.35L5.41 20z\"/>\n",
              "  </svg>\n",
              "      </button>\n",
              "      \n",
              "  <style>\n",
              "    .colab-df-container {\n",
              "      display:flex;\n",
              "      flex-wrap:wrap;\n",
              "      gap: 12px;\n",
              "    }\n",
              "\n",
              "    .colab-df-convert {\n",
              "      background-color: #E8F0FE;\n",
              "      border: none;\n",
              "      border-radius: 50%;\n",
              "      cursor: pointer;\n",
              "      display: none;\n",
              "      fill: #1967D2;\n",
              "      height: 32px;\n",
              "      padding: 0 0 0 0;\n",
              "      width: 32px;\n",
              "    }\n",
              "\n",
              "    .colab-df-convert:hover {\n",
              "      background-color: #E2EBFA;\n",
              "      box-shadow: 0px 1px 2px rgba(60, 64, 67, 0.3), 0px 1px 3px 1px rgba(60, 64, 67, 0.15);\n",
              "      fill: #174EA6;\n",
              "    }\n",
              "\n",
              "    [theme=dark] .colab-df-convert {\n",
              "      background-color: #3B4455;\n",
              "      fill: #D2E3FC;\n",
              "    }\n",
              "\n",
              "    [theme=dark] .colab-df-convert:hover {\n",
              "      background-color: #434B5C;\n",
              "      box-shadow: 0px 1px 3px 1px rgba(0, 0, 0, 0.15);\n",
              "      filter: drop-shadow(0px 1px 2px rgba(0, 0, 0, 0.3));\n",
              "      fill: #FFFFFF;\n",
              "    }\n",
              "  </style>\n",
              "\n",
              "      <script>\n",
              "        const buttonEl =\n",
              "          document.querySelector('#df-7fa2c2e1-1de8-483c-8e37-7bf31470ae05 button.colab-df-convert');\n",
              "        buttonEl.style.display =\n",
              "          google.colab.kernel.accessAllowed ? 'block' : 'none';\n",
              "\n",
              "        async function convertToInteractive(key) {\n",
              "          const element = document.querySelector('#df-7fa2c2e1-1de8-483c-8e37-7bf31470ae05');\n",
              "          const dataTable =\n",
              "            await google.colab.kernel.invokeFunction('convertToInteractive',\n",
              "                                                     [key], {});\n",
              "          if (!dataTable) return;\n",
              "\n",
              "          const docLinkHtml = 'Like what you see? Visit the ' +\n",
              "            '<a target=\"_blank\" href=https://colab.research.google.com/notebooks/data_table.ipynb>data table notebook</a>'\n",
              "            + ' to learn more about interactive tables.';\n",
              "          element.innerHTML = '';\n",
              "          dataTable['output_type'] = 'display_data';\n",
              "          await google.colab.output.renderOutput(dataTable, element);\n",
              "          const docLink = document.createElement('div');\n",
              "          docLink.innerHTML = docLinkHtml;\n",
              "          element.appendChild(docLink);\n",
              "        }\n",
              "      </script>\n",
              "    </div>\n",
              "  </div>\n",
              "  "
            ]
          },
          "metadata": {},
          "execution_count": 2
        }
      ]
    },
    {
      "cell_type": "markdown",
      "source": [
        "The LinearRegression class is a linear regression model provided by scikit-learn. It can be used to fit a linear regression model to a dataset and make predictions based on the input features.\n",
        "\n",
        "The train_test_split function is a utility function provided by scikit-learn that can be used to split a dataset into training and testing sets. This is a common technique used in machine learning to evaluate the performance of a model on unseen data. The train_test_split function takes the input features and target values as input and returns four arrays: X_train, X_test, y_train, and y_test. The X_train and y_train arrays can be used to fit the model, while the X_test and y_test arrays can be used to evaluate the performance of the model on unseen data."
      ],
      "metadata": {
        "id": "Mcz2neSFFN-7"
      }
    },
    {
      "cell_type": "code",
      "source": [
        "from sklearn.linear_model import LinearRegression\n",
        "from sklearn.model_selection import train_test_split"
      ],
      "metadata": {
        "id": "Um5s1ejxFKrO"
      },
      "execution_count": 3,
      "outputs": []
    },
    {
      "cell_type": "markdown",
      "source": [
        "This code snippet splits the df dataframe into input features (x) and target variable (y) by dropping the MedHouseVal column from the input features using the drop method with the axis=1 parameter, and selecting the MedHouseVal column as the target variable.\n",
        "\n",
        "Next, the train_test_split function is used to split the input features and target variable into training and testing sets, with 20% of the data being used for testing. The resulting training and testing sets are stored in x_train, x_test, y_train, and y_test.\n",
        "\n",
        "A new LinearRegression model is created using the LinearRegression class, and fitted to the training data using the fit method. Finally, the score method is used to evaluate the performance of the model on the testing data, and the resulting R-squared score is returned. The higher the R-squared score, the better the model fits the data.\n",
        "\n",
        "Overall, this code snippet demonstrates how to split a dataset into training and testing sets, fit a linear regression model to the training data, and evaluate the performance of the model on the testing data."
      ],
      "metadata": {
        "id": "kGuDLCeRMpCf"
      }
    },
    {
      "cell_type": "code",
      "source": [
        "x = df.drop([\"MedHouseVal\"], axis=1)\n",
        "y = df[\"MedHouseVal\"]\n",
        "x_train, x_test, y_train, y_test = train_test_split(x, y, test_size=0.2, random_state=0)\n",
        "model = LinearRegression()\n",
        "model.fit(x_train, y_train)\n",
        "model.score(x_test, y_test)"
      ],
      "metadata": {
        "colab": {
          "base_uri": "https://localhost:8080/"
        },
        "id": "1-YgxtimFlF4",
        "outputId": "048053ac-2780-460f-fc82-662427cfe411"
      },
      "execution_count": 4,
      "outputs": [
        {
          "output_type": "execute_result",
          "data": {
            "text/plain": [
              "0.5863264047398479"
            ]
          },
          "metadata": {},
          "execution_count": 4
        }
      ]
    },
    {
      "cell_type": "markdown",
      "source": [
        "Chagne the random state"
      ],
      "metadata": {
        "id": "tGEX4K6INOr3"
      }
    },
    {
      "cell_type": "code",
      "source": [
        "x = df.drop([\"MedHouseVal\"], axis=1)\n",
        "y = df[\"MedHouseVal\"]\n",
        "x_train, x_test, y_train, y_test = train_test_split(x, y, test_size=0.2, random_state=1)\n",
        "model = LinearRegression()\n",
        "model.fit(x_train, y_train)\n",
        "model.score(x_test, y_test)"
      ],
      "metadata": {
        "colab": {
          "base_uri": "https://localhost:8080/"
        },
        "id": "4ZRM_9dvF_Wv",
        "outputId": "f0211855-9184-427d-bee5-14998c023659"
      },
      "execution_count": 5,
      "outputs": [
        {
          "output_type": "execute_result",
          "data": {
            "text/plain": [
              "0.6255168893408665"
            ]
          },
          "metadata": {},
          "execution_count": 5
        }
      ]
    },
    {
      "cell_type": "markdown",
      "source": [
        "This code snippet uses the cross_val_score function from scikit-learn to perform k-fold cross-validation on a linear regression model (model) using the input features (x) and target variable (y).\n",
        "\n",
        "The cross_val_score function splits the data into k equally sized \"folds\", trains the model on k-1 folds and evaluates the model on the remaining fold, repeating this process k times such that each fold is used for evaluation exactly once. The function returns an array of scores, where each score represents the performance of the model on one of the k folds.\n",
        "\n",
        "The cv parameter is used to specify the number of folds. In this case, cv=5 indicates that the data should be split into 5 folds.\n",
        "\n",
        "The mean() method is then called on the array of scores to calculate the mean score across all folds. This mean score provides an estimate of the model's generalization performance, which is how well the model is expected to perform on new, unseen data.\n"
      ],
      "metadata": {
        "id": "Prxsc2scGKL0"
      }
    },
    {
      "cell_type": "code",
      "source": [
        "from sklearn.model_selection import cross_val_score\n",
        "cross_val_score(model, x, y, cv=5).mean()"
      ],
      "metadata": {
        "colab": {
          "base_uri": "https://localhost:8080/"
        },
        "id": "3DVfmKxrGFTh",
        "outputId": "7390be02-f9f0-4485-e0e1-1493b4afdc39"
      },
      "execution_count": 7,
      "outputs": [
        {
          "output_type": "execute_result",
          "data": {
            "text/plain": [
              "0.6145211085585904"
            ]
          },
          "metadata": {},
          "execution_count": 7
        }
      ]
    },
    {
      "cell_type": "markdown",
      "source": [
        "This code snippet fits a linear regression model (model) to the input features (x) and target variable (y). The fit method is called on the model object and takes x and y as arguments.\n",
        "\n",
        "The fit method trains the linear regression model on the input features and target variable by estimating the coefficients for each feature. These coefficients can be used to make predictions on new, unseen data.\n",
        "\n",
        "By calling the fit method on the model object, the linear regression model is trained on the entire dataset (x and y). This means that the model will have learned the relationships between all of the input features and the target variable, and should be able to make predictions on new, unseen data.\n",
        "\n",
        "Overall, this code snippet demonstrates how to fit a linear regression model to a dataset using the fit method."
      ],
      "metadata": {
        "id": "aBy7OrK6N8QB"
      }
    },
    {
      "cell_type": "code",
      "source": [
        "model.fit(x,y)"
      ],
      "metadata": {
        "colab": {
          "base_uri": "https://localhost:8080/"
        },
        "id": "xPxBHlM2GUew",
        "outputId": "5bdfd784-0c58-4266-c884-548352e43a48"
      },
      "execution_count": 8,
      "outputs": [
        {
          "output_type": "execute_result",
          "data": {
            "text/plain": [
              "LinearRegression()"
            ]
          },
          "metadata": {},
          "execution_count": 8
        }
      ]
    },
    {
      "cell_type": "markdown",
      "source": [
        "# Using Regression to Predict Taxi Fares\n",
        "\n",
        "This code snippet uses the read_csv function from the pandas library to read a CSV file into a pandas DataFrame.\n",
        "\n",
        "The CSV file is read from a URL (https://raw.githubusercontent.com/jeffprosise/Applied-Machine-Learning/main/Chapter%202/Data/taxi-fares.csv) and contains information about taxi fares, including the pickup and dropoff locations, fare amount, and pickup date and time.\n",
        "\n",
        "The parse_dates parameter is used to parse the pickup_datetime column as a datetime object. This will allow us to easily manipulate and extract information from the date and time data, such as the day of the week or the hour of the day.\n",
        "\n",
        "The resulting DataFrame is stored in the variable df and the head method is called to display the first few rows of the DataFrame.\n",
        "\n",
        "Overall, this code snippet demonstrates how to read a CSV file from a URL into a pandas DataFrame and how to parse a column as a datetime object during the import process."
      ],
      "metadata": {
        "id": "MkJZFb5CGjkm"
      }
    },
    {
      "cell_type": "code",
      "source": [
        "import pandas as pd\n",
        "df = pd.read_csv(\"https://raw.githubusercontent.com/jeffprosise/Applied-Machine-Learning/main/Chapter%202/Data/taxi-fares.csv\", parse_dates=[\"pickup_datetime\"])\n",
        "df.head()"
      ],
      "metadata": {
        "colab": {
          "base_uri": "https://localhost:8080/",
          "height": 206
        },
        "id": "p1LGNU9_GgJi",
        "outputId": "3c253b68-a160-4558-8a13-bec13a0a637e"
      },
      "execution_count": 9,
      "outputs": [
        {
          "output_type": "execute_result",
          "data": {
            "text/plain": [
              "                             key  fare_amount           pickup_datetime  \\\n",
              "0  2014-06-15 17:11:00.000000107          7.0 2014-06-15 17:11:00+00:00   \n",
              "1   2011-03-14 22:43:00.00000095          4.9 2011-03-14 22:43:00+00:00   \n",
              "2   2011-02-14 15:14:00.00000067          6.1 2011-02-14 15:14:00+00:00   \n",
              "3   2009-10-29 11:29:00.00000040          6.9 2009-10-29 11:29:00+00:00   \n",
              "4   2011-07-02 10:38:00.00000028         10.5 2011-07-02 10:38:00+00:00   \n",
              "\n",
              "   pickup_longitude  pickup_latitude  dropoff_longitude  dropoff_latitude  \\\n",
              "0        -73.995420        40.759662         -73.987607         40.751247   \n",
              "1        -73.993552        40.731110         -73.998497         40.737200   \n",
              "2        -73.972380        40.749527         -73.990638         40.745328   \n",
              "3        -73.973703        40.763542         -73.984253         40.758603   \n",
              "4        -73.921262        40.743615         -73.967383         40.765162   \n",
              "\n",
              "   passenger_count  \n",
              "0                1  \n",
              "1                5  \n",
              "2                1  \n",
              "3                5  \n",
              "4                1  "
            ],
            "text/html": [
              "\n",
              "  <div id=\"df-7323cee8-4130-48b3-810f-04514c9e5cd7\">\n",
              "    <div class=\"colab-df-container\">\n",
              "      <div>\n",
              "<style scoped>\n",
              "    .dataframe tbody tr th:only-of-type {\n",
              "        vertical-align: middle;\n",
              "    }\n",
              "\n",
              "    .dataframe tbody tr th {\n",
              "        vertical-align: top;\n",
              "    }\n",
              "\n",
              "    .dataframe thead th {\n",
              "        text-align: right;\n",
              "    }\n",
              "</style>\n",
              "<table border=\"1\" class=\"dataframe\">\n",
              "  <thead>\n",
              "    <tr style=\"text-align: right;\">\n",
              "      <th></th>\n",
              "      <th>key</th>\n",
              "      <th>fare_amount</th>\n",
              "      <th>pickup_datetime</th>\n",
              "      <th>pickup_longitude</th>\n",
              "      <th>pickup_latitude</th>\n",
              "      <th>dropoff_longitude</th>\n",
              "      <th>dropoff_latitude</th>\n",
              "      <th>passenger_count</th>\n",
              "    </tr>\n",
              "  </thead>\n",
              "  <tbody>\n",
              "    <tr>\n",
              "      <th>0</th>\n",
              "      <td>2014-06-15 17:11:00.000000107</td>\n",
              "      <td>7.0</td>\n",
              "      <td>2014-06-15 17:11:00+00:00</td>\n",
              "      <td>-73.995420</td>\n",
              "      <td>40.759662</td>\n",
              "      <td>-73.987607</td>\n",
              "      <td>40.751247</td>\n",
              "      <td>1</td>\n",
              "    </tr>\n",
              "    <tr>\n",
              "      <th>1</th>\n",
              "      <td>2011-03-14 22:43:00.00000095</td>\n",
              "      <td>4.9</td>\n",
              "      <td>2011-03-14 22:43:00+00:00</td>\n",
              "      <td>-73.993552</td>\n",
              "      <td>40.731110</td>\n",
              "      <td>-73.998497</td>\n",
              "      <td>40.737200</td>\n",
              "      <td>5</td>\n",
              "    </tr>\n",
              "    <tr>\n",
              "      <th>2</th>\n",
              "      <td>2011-02-14 15:14:00.00000067</td>\n",
              "      <td>6.1</td>\n",
              "      <td>2011-02-14 15:14:00+00:00</td>\n",
              "      <td>-73.972380</td>\n",
              "      <td>40.749527</td>\n",
              "      <td>-73.990638</td>\n",
              "      <td>40.745328</td>\n",
              "      <td>1</td>\n",
              "    </tr>\n",
              "    <tr>\n",
              "      <th>3</th>\n",
              "      <td>2009-10-29 11:29:00.00000040</td>\n",
              "      <td>6.9</td>\n",
              "      <td>2009-10-29 11:29:00+00:00</td>\n",
              "      <td>-73.973703</td>\n",
              "      <td>40.763542</td>\n",
              "      <td>-73.984253</td>\n",
              "      <td>40.758603</td>\n",
              "      <td>5</td>\n",
              "    </tr>\n",
              "    <tr>\n",
              "      <th>4</th>\n",
              "      <td>2011-07-02 10:38:00.00000028</td>\n",
              "      <td>10.5</td>\n",
              "      <td>2011-07-02 10:38:00+00:00</td>\n",
              "      <td>-73.921262</td>\n",
              "      <td>40.743615</td>\n",
              "      <td>-73.967383</td>\n",
              "      <td>40.765162</td>\n",
              "      <td>1</td>\n",
              "    </tr>\n",
              "  </tbody>\n",
              "</table>\n",
              "</div>\n",
              "      <button class=\"colab-df-convert\" onclick=\"convertToInteractive('df-7323cee8-4130-48b3-810f-04514c9e5cd7')\"\n",
              "              title=\"Convert this dataframe to an interactive table.\"\n",
              "              style=\"display:none;\">\n",
              "        \n",
              "  <svg xmlns=\"http://www.w3.org/2000/svg\" height=\"24px\"viewBox=\"0 0 24 24\"\n",
              "       width=\"24px\">\n",
              "    <path d=\"M0 0h24v24H0V0z\" fill=\"none\"/>\n",
              "    <path d=\"M18.56 5.44l.94 2.06.94-2.06 2.06-.94-2.06-.94-.94-2.06-.94 2.06-2.06.94zm-11 1L8.5 8.5l.94-2.06 2.06-.94-2.06-.94L8.5 2.5l-.94 2.06-2.06.94zm10 10l.94 2.06.94-2.06 2.06-.94-2.06-.94-.94-2.06-.94 2.06-2.06.94z\"/><path d=\"M17.41 7.96l-1.37-1.37c-.4-.4-.92-.59-1.43-.59-.52 0-1.04.2-1.43.59L10.3 9.45l-7.72 7.72c-.78.78-.78 2.05 0 2.83L4 21.41c.39.39.9.59 1.41.59.51 0 1.02-.2 1.41-.59l7.78-7.78 2.81-2.81c.8-.78.8-2.07 0-2.86zM5.41 20L4 18.59l7.72-7.72 1.47 1.35L5.41 20z\"/>\n",
              "  </svg>\n",
              "      </button>\n",
              "      \n",
              "  <style>\n",
              "    .colab-df-container {\n",
              "      display:flex;\n",
              "      flex-wrap:wrap;\n",
              "      gap: 12px;\n",
              "    }\n",
              "\n",
              "    .colab-df-convert {\n",
              "      background-color: #E8F0FE;\n",
              "      border: none;\n",
              "      border-radius: 50%;\n",
              "      cursor: pointer;\n",
              "      display: none;\n",
              "      fill: #1967D2;\n",
              "      height: 32px;\n",
              "      padding: 0 0 0 0;\n",
              "      width: 32px;\n",
              "    }\n",
              "\n",
              "    .colab-df-convert:hover {\n",
              "      background-color: #E2EBFA;\n",
              "      box-shadow: 0px 1px 2px rgba(60, 64, 67, 0.3), 0px 1px 3px 1px rgba(60, 64, 67, 0.15);\n",
              "      fill: #174EA6;\n",
              "    }\n",
              "\n",
              "    [theme=dark] .colab-df-convert {\n",
              "      background-color: #3B4455;\n",
              "      fill: #D2E3FC;\n",
              "    }\n",
              "\n",
              "    [theme=dark] .colab-df-convert:hover {\n",
              "      background-color: #434B5C;\n",
              "      box-shadow: 0px 1px 3px 1px rgba(0, 0, 0, 0.15);\n",
              "      filter: drop-shadow(0px 1px 2px rgba(0, 0, 0, 0.3));\n",
              "      fill: #FFFFFF;\n",
              "    }\n",
              "  </style>\n",
              "\n",
              "      <script>\n",
              "        const buttonEl =\n",
              "          document.querySelector('#df-7323cee8-4130-48b3-810f-04514c9e5cd7 button.colab-df-convert');\n",
              "        buttonEl.style.display =\n",
              "          google.colab.kernel.accessAllowed ? 'block' : 'none';\n",
              "\n",
              "        async function convertToInteractive(key) {\n",
              "          const element = document.querySelector('#df-7323cee8-4130-48b3-810f-04514c9e5cd7');\n",
              "          const dataTable =\n",
              "            await google.colab.kernel.invokeFunction('convertToInteractive',\n",
              "                                                     [key], {});\n",
              "          if (!dataTable) return;\n",
              "\n",
              "          const docLinkHtml = 'Like what you see? Visit the ' +\n",
              "            '<a target=\"_blank\" href=https://colab.research.google.com/notebooks/data_table.ipynb>data table notebook</a>'\n",
              "            + ' to learn more about interactive tables.';\n",
              "          element.innerHTML = '';\n",
              "          dataTable['output_type'] = 'display_data';\n",
              "          await google.colab.output.renderOutput(dataTable, element);\n",
              "          const docLink = document.createElement('div');\n",
              "          docLink.innerHTML = docLinkHtml;\n",
              "          element.appendChild(docLink);\n",
              "        }\n",
              "      </script>\n",
              "    </div>\n",
              "  </div>\n",
              "  "
            ]
          },
          "metadata": {},
          "execution_count": 9
        }
      ]
    },
    {
      "cell_type": "markdown",
      "source": [
        "This code snippet imports and sets up the plotting library, Seaborn, and configures the Jupyter notebook to display plots inline.\n",
        "\n",
        "The %matplotlib inline magic command is used to enable inline plotting in the Jupyter notebook. This means that plots will be displayed directly in the notebook output, rather than in a separate window or file.\n",
        "\n",
        "The matplotlib.pyplot and seaborn libraries are imported with the aliases plt and sns, respectively. These aliases are commonly used in the data science community to make plotting code more concise and easier to read.\n",
        "\n",
        "The sns.set() function is called to set the default style and color palette for Seaborn plots. This function can be used to customize the appearance of plots, such as changing the background color, font sizes, or line styles.\n",
        "\n",
        "Overall, this code snippet demonstrates how to set up the Jupyter notebook for inline plotting and how to import and configure the Seaborn library for data visualization."
      ],
      "metadata": {
        "id": "ln4MNuCZOMKt"
      }
    },
    {
      "cell_type": "code",
      "source": [
        "%matplotlib inline\n",
        "import matplotlib.pyplot as plt\n",
        "import seaborn as sns\n",
        "sns.set()"
      ],
      "metadata": {
        "id": "l8txtf1xHIKE"
      },
      "execution_count": 10,
      "outputs": []
    },
    {
      "cell_type": "markdown",
      "source": [
        "This code snippet uses the countplot function from the Seaborn library to create a bar plot of the number of taxi rides with each number of passengers.\n",
        "\n",
        "The countplot function takes a pandas Series or DataFrame column as input and automatically computes the count of each unique value in the column. In this case, we pass in the passenger_count column of the df DataFrame.\n",
        "\n",
        "The resulting plot shows a bar for each number of passengers (from 1 to 6), with the height of the bar representing the count of taxi rides with that number of passengers.\n",
        "\n",
        "Overall, this code snippet demonstrates how to use Seaborn to create a bar plot of the count of each unique value in a column of a pandas DataFrame."
      ],
      "metadata": {
        "id": "GbiD8OFcOYec"
      }
    },
    {
      "cell_type": "code",
      "source": [
        "sns.countplot(x=df[\"passenger_count\"])"
      ],
      "metadata": {
        "colab": {
          "base_uri": "https://localhost:8080/",
          "height": 306
        },
        "id": "8jn6yJGkHWrm",
        "outputId": "004d69e3-188b-41a2-f99b-628e3d62c2b0"
      },
      "execution_count": 11,
      "outputs": [
        {
          "output_type": "execute_result",
          "data": {
            "text/plain": [
              "<matplotlib.axes._subplots.AxesSubplot at 0x7f5bf47b1130>"
            ]
          },
          "metadata": {},
          "execution_count": 11
        },
        {
          "output_type": "display_data",
          "data": {
            "text/plain": [
              "<Figure size 432x288 with 1 Axes>"
            ],
            "image/png": "[encoded data removed]"
          },
          "metadata": {}
        }
      ]
    },
    {
      "cell_type": "markdown",
      "source": [
        "This code snippet filters the df DataFrame to include only taxi rides with a single passenger and drops the key and passenger_count columns.\n",
        "\n",
        "The first line of code uses boolean indexing to filter the DataFrame to include only rows where the passenger_count column is equal to 1. This reduces the size of the DataFrame and simplifies the subsequent analysis.\n",
        "\n",
        "The second line of code uses the drop method to remove the key and passenger_count columns from the DataFrame. The axis=1 parameter indicates that we want to drop columns (as opposed to rows), and the resulting DataFrame is stored back in the df variable.\n",
        "\n",
        "The head method is called to display the first few rows of the resulting DataFrame, which now only includes information about taxi rides with a single passenger."
      ],
      "metadata": {
        "id": "VaOAtTxaOgsp"
      }
    },
    {
      "cell_type": "code",
      "source": [
        "df = df[df[\"passenger_count\"]==1]\n",
        "df = df.drop([\"key\", \"passenger_count\"], axis=1)\n",
        "df.head()"
      ],
      "metadata": {
        "colab": {
          "base_uri": "https://localhost:8080/",
          "height": 206
        },
        "id": "V9Ba_RD_HZ1O",
        "outputId": "8fea68ed-8a6e-4584-d51b-f144806abfd6"
      },
      "execution_count": 12,
      "outputs": [
        {
          "output_type": "execute_result",
          "data": {
            "text/plain": [
              "   fare_amount           pickup_datetime  pickup_longitude  pickup_latitude  \\\n",
              "0          7.0 2014-06-15 17:11:00+00:00        -73.995420        40.759662   \n",
              "2          6.1 2011-02-14 15:14:00+00:00        -73.972380        40.749527   \n",
              "4         10.5 2011-07-02 10:38:00+00:00        -73.921262        40.743615   \n",
              "5         15.3 2011-12-09 20:03:00+00:00        -73.973500        40.792610   \n",
              "8          7.7 2011-04-02 01:05:15+00:00        -73.979564        40.735405   \n",
              "\n",
              "   dropoff_longitude  dropoff_latitude  \n",
              "0         -73.987607         40.751247  \n",
              "2         -73.990638         40.745328  \n",
              "4         -73.967383         40.765162  \n",
              "5         -73.936035         40.856548  \n",
              "8         -73.955686         40.768065  "
            ],
            "text/html": [
              "\n",
              "  <div id=\"df-95b863e0-e789-49b1-a3b4-c69df6ca9b1b\">\n",
              "    <div class=\"colab-df-container\">\n",
              "      <div>\n",
              "<style scoped>\n",
              "    .dataframe tbody tr th:only-of-type {\n",
              "        vertical-align: middle;\n",
              "    }\n",
              "\n",
              "    .dataframe tbody tr th {\n",
              "        vertical-align: top;\n",
              "    }\n",
              "\n",
              "    .dataframe thead th {\n",
              "        text-align: right;\n",
              "    }\n",
              "</style>\n",
              "<table border=\"1\" class=\"dataframe\">\n",
              "  <thead>\n",
              "    <tr style=\"text-align: right;\">\n",
              "      <th></th>\n",
              "      <th>fare_amount</th>\n",
              "      <th>pickup_datetime</th>\n",
              "      <th>pickup_longitude</th>\n",
              "      <th>pickup_latitude</th>\n",
              "      <th>dropoff_longitude</th>\n",
              "      <th>dropoff_latitude</th>\n",
              "    </tr>\n",
              "  </thead>\n",
              "  <tbody>\n",
              "    <tr>\n",
              "      <th>0</th>\n",
              "      <td>7.0</td>\n",
              "      <td>2014-06-15 17:11:00+00:00</td>\n",
              "      <td>-73.995420</td>\n",
              "      <td>40.759662</td>\n",
              "      <td>-73.987607</td>\n",
              "      <td>40.751247</td>\n",
              "    </tr>\n",
              "    <tr>\n",
              "      <th>2</th>\n",
              "      <td>6.1</td>\n",
              "      <td>2011-02-14 15:14:00+00:00</td>\n",
              "      <td>-73.972380</td>\n",
              "      <td>40.749527</td>\n",
              "      <td>-73.990638</td>\n",
              "      <td>40.745328</td>\n",
              "    </tr>\n",
              "    <tr>\n",
              "      <th>4</th>\n",
              "      <td>10.5</td>\n",
              "      <td>2011-07-02 10:38:00+00:00</td>\n",
              "      <td>-73.921262</td>\n",
              "      <td>40.743615</td>\n",
              "      <td>-73.967383</td>\n",
              "      <td>40.765162</td>\n",
              "    </tr>\n",
              "    <tr>\n",
              "      <th>5</th>\n",
              "      <td>15.3</td>\n",
              "      <td>2011-12-09 20:03:00+00:00</td>\n",
              "      <td>-73.973500</td>\n",
              "      <td>40.792610</td>\n",
              "      <td>-73.936035</td>\n",
              "      <td>40.856548</td>\n",
              "    </tr>\n",
              "    <tr>\n",
              "      <th>8</th>\n",
              "      <td>7.7</td>\n",
              "      <td>2011-04-02 01:05:15+00:00</td>\n",
              "      <td>-73.979564</td>\n",
              "      <td>40.735405</td>\n",
              "      <td>-73.955686</td>\n",
              "      <td>40.768065</td>\n",
              "    </tr>\n",
              "  </tbody>\n",
              "</table>\n",
              "</div>\n",
              "      <button class=\"colab-df-convert\" onclick=\"convertToInteractive('df-95b863e0-e789-49b1-a3b4-c69df6ca9b1b')\"\n",
              "              title=\"Convert this dataframe to an interactive table.\"\n",
              "              style=\"display:none;\">\n",
              "        \n",
              "  <svg xmlns=\"http://www.w3.org/2000/svg\" height=\"24px\"viewBox=\"0 0 24 24\"\n",
              "       width=\"24px\">\n",
              "    <path d=\"M0 0h24v24H0V0z\" fill=\"none\"/>\n",
              "    <path d=\"M18.56 5.44l.94 2.06.94-2.06 2.06-.94-2.06-.94-.94-2.06-.94 2.06-2.06.94zm-11 1L8.5 8.5l.94-2.06 2.06-.94-2.06-.94L8.5 2.5l-.94 2.06-2.06.94zm10 10l.94 2.06.94-2.06 2.06-.94-2.06-.94-.94-2.06-.94 2.06-2.06.94z\"/><path d=\"M17.41 7.96l-1.37-1.37c-.4-.4-.92-.59-1.43-.59-.52 0-1.04.2-1.43.59L10.3 9.45l-7.72 7.72c-.78.78-.78 2.05 0 2.83L4 21.41c.39.39.9.59 1.41.59.51 0 1.02-.2 1.41-.59l7.78-7.78 2.81-2.81c.8-.78.8-2.07 0-2.86zM5.41 20L4 18.59l7.72-7.72 1.47 1.35L5.41 20z\"/>\n",
              "  </svg>\n",
              "      </button>\n",
              "      \n",
              "  <style>\n",
              "    .colab-df-container {\n",
              "      display:flex;\n",
              "      flex-wrap:wrap;\n",
              "      gap: 12px;\n",
              "    }\n",
              "\n",
              "    .colab-df-convert {\n",
              "      background-color: #E8F0FE;\n",
              "      border: none;\n",
              "      border-radius: 50%;\n",
              "      cursor: pointer;\n",
              "      display: none;\n",
              "      fill: #1967D2;\n",
              "      height: 32px;\n",
              "      padding: 0 0 0 0;\n",
              "      width: 32px;\n",
              "    }\n",
              "\n",
              "    .colab-df-convert:hover {\n",
              "      background-color: #E2EBFA;\n",
              "      box-shadow: 0px 1px 2px rgba(60, 64, 67, 0.3), 0px 1px 3px 1px rgba(60, 64, 67, 0.15);\n",
              "      fill: #174EA6;\n",
              "    }\n",
              "\n",
              "    [theme=dark] .colab-df-convert {\n",
              "      background-color: #3B4455;\n",
              "      fill: #D2E3FC;\n",
              "    }\n",
              "\n",
              "    [theme=dark] .colab-df-convert:hover {\n",
              "      background-color: #434B5C;\n",
              "      box-shadow: 0px 1px 3px 1px rgba(0, 0, 0, 0.15);\n",
              "      filter: drop-shadow(0px 1px 2px rgba(0, 0, 0, 0.3));\n",
              "      fill: #FFFFFF;\n",
              "    }\n",
              "  </style>\n",
              "\n",
              "      <script>\n",
              "        const buttonEl =\n",
              "          document.querySelector('#df-95b863e0-e789-49b1-a3b4-c69df6ca9b1b button.colab-df-convert');\n",
              "        buttonEl.style.display =\n",
              "          google.colab.kernel.accessAllowed ? 'block' : 'none';\n",
              "\n",
              "        async function convertToInteractive(key) {\n",
              "          const element = document.querySelector('#df-95b863e0-e789-49b1-a3b4-c69df6ca9b1b');\n",
              "          const dataTable =\n",
              "            await google.colab.kernel.invokeFunction('convertToInteractive',\n",
              "                                                     [key], {});\n",
              "          if (!dataTable) return;\n",
              "\n",
              "          const docLinkHtml = 'Like what you see? Visit the ' +\n",
              "            '<a target=\"_blank\" href=https://colab.research.google.com/notebooks/data_table.ipynb>data table notebook</a>'\n",
              "            + ' to learn more about interactive tables.';\n",
              "          element.innerHTML = '';\n",
              "          dataTable['output_type'] = 'display_data';\n",
              "          await google.colab.output.renderOutput(dataTable, element);\n",
              "          const docLink = document.createElement('div');\n",
              "          docLink.innerHTML = docLinkHtml;\n",
              "          element.appendChild(docLink);\n",
              "        }\n",
              "      </script>\n",
              "    </div>\n",
              "  </div>\n",
              "  "
            ]
          },
          "metadata": {},
          "execution_count": 12
        }
      ]
    },
    {
      "cell_type": "markdown",
      "source": [
        "This code snippet uses the shape attribute of a pandas DataFrame to get the number of rows and columns in the df DataFrame.\n",
        "\n",
        "The shape attribute returns a tuple with two elements: the number of rows (i.e., the length of the first dimension) and the number of columns (i.e., the length of the second dimension).\n",
        "\n",
        "By calling df.shape, we can see the dimensions of the filtered DataFrame after removing taxi rides with more than one passenger and dropping the key and passenger_count columns. The output will be in the format of (rows, columns)."
      ],
      "metadata": {
        "id": "4Ht8DjnFOrZI"
      }
    },
    {
      "cell_type": "code",
      "source": [
        "df.shape"
      ],
      "metadata": {
        "colab": {
          "base_uri": "https://localhost:8080/"
        },
        "id": "tdVPd7aLHpAH",
        "outputId": "bab911ca-6a9f-42a3-c3a7-433b531841e4"
      },
      "execution_count": 13,
      "outputs": [
        {
          "output_type": "execute_result",
          "data": {
            "text/plain": [
              "(38233, 6)"
            ]
          },
          "metadata": {},
          "execution_count": 13
        }
      ]
    },
    {
      "cell_type": "markdown",
      "source": [
        "This code snippet computes the correlation matrix of the df DataFrame and displays the correlation values between the fare_amount column and all other columns in descending order.\n",
        "\n",
        "The first line of code computes the correlation matrix of the DataFrame using the corr method. This method computes the pairwise correlation between all columns in the DataFrame by default, using the Pearson correlation coefficient.\n",
        "\n",
        "The second line of code selects the correlation values between the fare_amount column and all other columns in the DataFrame. It uses the bracket notation to select the fare_amount column and the sort_values method to sort the resulting correlation values in descending order.\n",
        "\n",
        "The resulting output shows the correlation values between the fare_amount column and all other columns in the DataFrame, sorted in descending order. The correlation values range from -1 to 1, where 1 indicates a perfect positive correlation, -1 indicates a perfect negative correlation, and 0 indicates no correlation."
      ],
      "metadata": {
        "id": "4ZwBW-X-O0HE"
      }
    },
    {
      "cell_type": "code",
      "source": [
        "coor_matrix = df.corr()\n",
        "coor_matrix[\"fare_amount\"].sort_values(ascending=False)"
      ],
      "metadata": {
        "colab": {
          "base_uri": "https://localhost:8080/"
        },
        "id": "RlLcbvtRHrAx",
        "outputId": "2d3146a2-e015-4907-f406-6d100ec1a63f"
      },
      "execution_count": 16,
      "outputs": [
        {
          "output_type": "execute_result",
          "data": {
            "text/plain": [
              "fare_amount          1.000000\n",
              "dropoff_longitude    0.020438\n",
              "pickup_longitude     0.015742\n",
              "pickup_latitude     -0.015915\n",
              "dropoff_latitude    -0.021711\n",
              "Name: fare_amount, dtype: float64"
            ]
          },
          "metadata": {},
          "execution_count": 16
        }
      ]
    },
    {
      "cell_type": "markdown",
      "source": [
        "This code imports the sqrt function from the math module in Python.\n",
        "\n",
        "The sqrt function is a built-in function in the math module that returns the square root of a given number. It takes a single argument, which is the number to be square rooted, and returns the result as a float.\n",
        "\n",
        "In this case, the sqrt function is likely being used in some later computation involving the x and y variables."
      ],
      "metadata": {
        "id": "4_EsYFhjO-Jr"
      }
    },
    {
      "cell_type": "code",
      "source": [
        "from math import sqrt"
      ],
      "metadata": {
        "id": "uMUsNLj7HvHr"
      },
      "execution_count": 17,
      "outputs": []
    },
    {
      "cell_type": "markdown",
      "source": [
        "Here are the steps that the code is doing for each row of the DataFrame:\n",
        "\n",
        "- It gets the pickup_datetime value from the row and assigns it to a variable dt.\n",
        "- It calculates the day of the week for the pickup datetime by calling the weekday() method on dt and assigns it to a new column \"day_of_week\" in the row.\n",
        "- It calculates the hour of the pickup time by getting the hour attribute of dt and assigns it to a new column \"pickup_time\" in the row.\n",
        "- It calculates the distance between the pickup and dropoff locations by calculating the difference in longitude and latitude, converting those differences to miles using a conversion factor of 54.6 and 69 respectively, and then calculating the distance using the Pythagorean theorem. \n",
        "- The resulting distance is then assigned to a new column \"distance\" in the row."
      ],
      "metadata": {
        "id": "M2g0XfBoJEC7"
      }
    },
    {
      "cell_type": "code",
      "source": [
        "for i, row in df.iterrows():\n",
        "  dt = row[\"pickup_datetime\"]\n",
        "  df.at[i, \"day_of_week\"] = dt.weekday()\n",
        "  df.at[i, \"pickup_time\"] = dt.hour\n",
        "  x = (row[\"dropoff_longitude\"] - row[\"pickup_longitude\"]) * 54.6\n",
        "  y = (row[\"dropoff_latitude\"] - row[\"pickup_latitude\"]) * 69\n",
        "  distance = sqrt(x**2 + y**2)\n",
        "  df.at[i, \"distance\"] = distance\n",
        "\n",
        "df.head()"
      ],
      "metadata": {
        "colab": {
          "base_uri": "https://localhost:8080/",
          "height": 206
        },
        "id": "AqGiIVZKH-sX",
        "outputId": "f289f609-76ec-4a8a-a32b-a7dbfcb6b756"
      },
      "execution_count": 20,
      "outputs": [
        {
          "output_type": "execute_result",
          "data": {
            "text/plain": [
              "   fare_amount           pickup_datetime  pickup_longitude  pickup_latitude  \\\n",
              "0          7.0 2014-06-15 17:11:00+00:00        -73.995420        40.759662   \n",
              "2          6.1 2011-02-14 15:14:00+00:00        -73.972380        40.749527   \n",
              "4         10.5 2011-07-02 10:38:00+00:00        -73.921262        40.743615   \n",
              "5         15.3 2011-12-09 20:03:00+00:00        -73.973500        40.792610   \n",
              "8          7.7 2011-04-02 01:05:15+00:00        -73.979564        40.735405   \n",
              "\n",
              "   dropoff_longitude  dropoff_latitude  day_of_week  pickup_time  distance  \n",
              "0         -73.987607         40.751247          6.0         17.0  0.720497  \n",
              "2         -73.990638         40.745328          0.0         15.0  1.038136  \n",
              "4         -73.967383         40.765162          5.0         10.0  2.924341  \n",
              "5         -73.936035         40.856548          4.0         20.0  4.862893  \n",
              "8         -73.955686         40.768065          5.0          1.0  2.603493  "
            ],
            "text/html": [
              "\n",
              "  <div id=\"df-502f22f2-5b27-4626-badb-70d800f8d0e7\">\n",
              "    <div class=\"colab-df-container\">\n",
              "      <div>\n",
              "<style scoped>\n",
              "    .dataframe tbody tr th:only-of-type {\n",
              "        vertical-align: middle;\n",
              "    }\n",
              "\n",
              "    .dataframe tbody tr th {\n",
              "        vertical-align: top;\n",
              "    }\n",
              "\n",
              "    .dataframe thead th {\n",
              "        text-align: right;\n",
              "    }\n",
              "</style>\n",
              "<table border=\"1\" class=\"dataframe\">\n",
              "  <thead>\n",
              "    <tr style=\"text-align: right;\">\n",
              "      <th></th>\n",
              "      <th>fare_amount</th>\n",
              "      <th>pickup_datetime</th>\n",
              "      <th>pickup_longitude</th>\n",
              "      <th>pickup_latitude</th>\n",
              "      <th>dropoff_longitude</th>\n",
              "      <th>dropoff_latitude</th>\n",
              "      <th>day_of_week</th>\n",
              "      <th>pickup_time</th>\n",
              "      <th>distance</th>\n",
              "    </tr>\n",
              "  </thead>\n",
              "  <tbody>\n",
              "    <tr>\n",
              "      <th>0</th>\n",
              "      <td>7.0</td>\n",
              "      <td>2014-06-15 17:11:00+00:00</td>\n",
              "      <td>-73.995420</td>\n",
              "      <td>40.759662</td>\n",
              "      <td>-73.987607</td>\n",
              "      <td>40.751247</td>\n",
              "      <td>6.0</td>\n",
              "      <td>17.0</td>\n",
              "      <td>0.720497</td>\n",
              "    </tr>\n",
              "    <tr>\n",
              "      <th>2</th>\n",
              "      <td>6.1</td>\n",
              "      <td>2011-02-14 15:14:00+00:00</td>\n",
              "      <td>-73.972380</td>\n",
              "      <td>40.749527</td>\n",
              "      <td>-73.990638</td>\n",
              "      <td>40.745328</td>\n",
              "      <td>0.0</td>\n",
              "      <td>15.0</td>\n",
              "      <td>1.038136</td>\n",
              "    </tr>\n",
              "    <tr>\n",
              "      <th>4</th>\n",
              "      <td>10.5</td>\n",
              "      <td>2011-07-02 10:38:00+00:00</td>\n",
              "      <td>-73.921262</td>\n",
              "      <td>40.743615</td>\n",
              "      <td>-73.967383</td>\n",
              "      <td>40.765162</td>\n",
              "      <td>5.0</td>\n",
              "      <td>10.0</td>\n",
              "      <td>2.924341</td>\n",
              "    </tr>\n",
              "    <tr>\n",
              "      <th>5</th>\n",
              "      <td>15.3</td>\n",
              "      <td>2011-12-09 20:03:00+00:00</td>\n",
              "      <td>-73.973500</td>\n",
              "      <td>40.792610</td>\n",
              "      <td>-73.936035</td>\n",
              "      <td>40.856548</td>\n",
              "      <td>4.0</td>\n",
              "      <td>20.0</td>\n",
              "      <td>4.862893</td>\n",
              "    </tr>\n",
              "    <tr>\n",
              "      <th>8</th>\n",
              "      <td>7.7</td>\n",
              "      <td>2011-04-02 01:05:15+00:00</td>\n",
              "      <td>-73.979564</td>\n",
              "      <td>40.735405</td>\n",
              "      <td>-73.955686</td>\n",
              "      <td>40.768065</td>\n",
              "      <td>5.0</td>\n",
              "      <td>1.0</td>\n",
              "      <td>2.603493</td>\n",
              "    </tr>\n",
              "  </tbody>\n",
              "</table>\n",
              "</div>\n",
              "      <button class=\"colab-df-convert\" onclick=\"convertToInteractive('df-502f22f2-5b27-4626-badb-70d800f8d0e7')\"\n",
              "              title=\"Convert this dataframe to an interactive table.\"\n",
              "              style=\"display:none;\">\n",
              "        \n",
              "  <svg xmlns=\"http://www.w3.org/2000/svg\" height=\"24px\"viewBox=\"0 0 24 24\"\n",
              "       width=\"24px\">\n",
              "    <path d=\"M0 0h24v24H0V0z\" fill=\"none\"/>\n",
              "    <path d=\"M18.56 5.44l.94 2.06.94-2.06 2.06-.94-2.06-.94-.94-2.06-.94 2.06-2.06.94zm-11 1L8.5 8.5l.94-2.06 2.06-.94-2.06-.94L8.5 2.5l-.94 2.06-2.06.94zm10 10l.94 2.06.94-2.06 2.06-.94-2.06-.94-.94-2.06-.94 2.06-2.06.94z\"/><path d=\"M17.41 7.96l-1.37-1.37c-.4-.4-.92-.59-1.43-.59-.52 0-1.04.2-1.43.59L10.3 9.45l-7.72 7.72c-.78.78-.78 2.05 0 2.83L4 21.41c.39.39.9.59 1.41.59.51 0 1.02-.2 1.41-.59l7.78-7.78 2.81-2.81c.8-.78.8-2.07 0-2.86zM5.41 20L4 18.59l7.72-7.72 1.47 1.35L5.41 20z\"/>\n",
              "  </svg>\n",
              "      </button>\n",
              "      \n",
              "  <style>\n",
              "    .colab-df-container {\n",
              "      display:flex;\n",
              "      flex-wrap:wrap;\n",
              "      gap: 12px;\n",
              "    }\n",
              "\n",
              "    .colab-df-convert {\n",
              "      background-color: #E8F0FE;\n",
              "      border: none;\n",
              "      border-radius: 50%;\n",
              "      cursor: pointer;\n",
              "      display: none;\n",
              "      fill: #1967D2;\n",
              "      height: 32px;\n",
              "      padding: 0 0 0 0;\n",
              "      width: 32px;\n",
              "    }\n",
              "\n",
              "    .colab-df-convert:hover {\n",
              "      background-color: #E2EBFA;\n",
              "      box-shadow: 0px 1px 2px rgba(60, 64, 67, 0.3), 0px 1px 3px 1px rgba(60, 64, 67, 0.15);\n",
              "      fill: #174EA6;\n",
              "    }\n",
              "\n",
              "    [theme=dark] .colab-df-convert {\n",
              "      background-color: #3B4455;\n",
              "      fill: #D2E3FC;\n",
              "    }\n",
              "\n",
              "    [theme=dark] .colab-df-convert:hover {\n",
              "      background-color: #434B5C;\n",
              "      box-shadow: 0px 1px 3px 1px rgba(0, 0, 0, 0.15);\n",
              "      filter: drop-shadow(0px 1px 2px rgba(0, 0, 0, 0.3));\n",
              "      fill: #FFFFFF;\n",
              "    }\n",
              "  </style>\n",
              "\n",
              "      <script>\n",
              "        const buttonEl =\n",
              "          document.querySelector('#df-502f22f2-5b27-4626-badb-70d800f8d0e7 button.colab-df-convert');\n",
              "        buttonEl.style.display =\n",
              "          google.colab.kernel.accessAllowed ? 'block' : 'none';\n",
              "\n",
              "        async function convertToInteractive(key) {\n",
              "          const element = document.querySelector('#df-502f22f2-5b27-4626-badb-70d800f8d0e7');\n",
              "          const dataTable =\n",
              "            await google.colab.kernel.invokeFunction('convertToInteractive',\n",
              "                                                     [key], {});\n",
              "          if (!dataTable) return;\n",
              "\n",
              "          const docLinkHtml = 'Like what you see? Visit the ' +\n",
              "            '<a target=\"_blank\" href=https://colab.research.google.com/notebooks/data_table.ipynb>data table notebook</a>'\n",
              "            + ' to learn more about interactive tables.';\n",
              "          element.innerHTML = '';\n",
              "          dataTable['output_type'] = 'display_data';\n",
              "          await google.colab.output.renderOutput(dataTable, element);\n",
              "          const docLink = document.createElement('div');\n",
              "          docLink.innerHTML = docLinkHtml;\n",
              "          element.appendChild(docLink);\n",
              "        }\n",
              "      </script>\n",
              "    </div>\n",
              "  </div>\n",
              "  "
            ]
          },
          "metadata": {},
          "execution_count": 20
        }
      ]
    },
    {
      "cell_type": "markdown",
      "source": [
        "This code snippet drops several columns from the df DataFrame using the drop method and sets the inplace parameter to True to modify the DataFrame in place.\n",
        "\n",
        "The drop method is used to remove columns from the DataFrame, and the columns parameter is used to specify the column names to be removed. In this case, the method is called with the list [\"pickup_datetime\", \"pickup_longitude\", \"pickup_latitude\", \"dropoff_longitude\", \"dropoff_latitude\"] as the columns parameter, which specifies the names of the columns to be dropped.\n",
        "\n",
        "The inplace parameter is set to True to modify the DataFrame in place, rather than returning a new DataFrame with the specified columns dropped.\n",
        "\n",
        "The resulting DataFrame will have the same rows as the original DataFrame, but with the specified columns removed. The head method is then called to display the first few rows of the resulting DataFrame."
      ],
      "metadata": {
        "id": "yfPV3zbjJkWx"
      }
    },
    {
      "cell_type": "code",
      "source": [
        "df.drop(columns=[\"pickup_datetime\", \"pickup_longitude\", \"pickup_latitude\", \"dropoff_longitude\", \"dropoff_latitude\"], inplace=True)\n",
        "df.head()"
      ],
      "metadata": {
        "colab": {
          "base_uri": "https://localhost:8080/",
          "height": 206
        },
        "id": "gWUGNlaIIwSQ",
        "outputId": "1dc1c59b-e4ae-4fca-b322-b217a1c8cb82"
      },
      "execution_count": 21,
      "outputs": [
        {
          "output_type": "execute_result",
          "data": {
            "text/plain": [
              "   fare_amount  day_of_week  pickup_time  distance\n",
              "0          7.0          6.0         17.0  0.720497\n",
              "2          6.1          0.0         15.0  1.038136\n",
              "4         10.5          5.0         10.0  2.924341\n",
              "5         15.3          4.0         20.0  4.862893\n",
              "8          7.7          5.0          1.0  2.603493"
            ],
            "text/html": [
              "\n",
              "  <div id=\"df-74989ab3-7c27-41de-937b-39b2f24f92d9\">\n",
              "    <div class=\"colab-df-container\">\n",
              "      <div>\n",
              "<style scoped>\n",
              "    .dataframe tbody tr th:only-of-type {\n",
              "        vertical-align: middle;\n",
              "    }\n",
              "\n",
              "    .dataframe tbody tr th {\n",
              "        vertical-align: top;\n",
              "    }\n",
              "\n",
              "    .dataframe thead th {\n",
              "        text-align: right;\n",
              "    }\n",
              "</style>\n",
              "<table border=\"1\" class=\"dataframe\">\n",
              "  <thead>\n",
              "    <tr style=\"text-align: right;\">\n",
              "      <th></th>\n",
              "      <th>fare_amount</th>\n",
              "      <th>day_of_week</th>\n",
              "      <th>pickup_time</th>\n",
              "      <th>distance</th>\n",
              "    </tr>\n",
              "  </thead>\n",
              "  <tbody>\n",
              "    <tr>\n",
              "      <th>0</th>\n",
              "      <td>7.0</td>\n",
              "      <td>6.0</td>\n",
              "      <td>17.0</td>\n",
              "      <td>0.720497</td>\n",
              "    </tr>\n",
              "    <tr>\n",
              "      <th>2</th>\n",
              "      <td>6.1</td>\n",
              "      <td>0.0</td>\n",
              "      <td>15.0</td>\n",
              "      <td>1.038136</td>\n",
              "    </tr>\n",
              "    <tr>\n",
              "      <th>4</th>\n",
              "      <td>10.5</td>\n",
              "      <td>5.0</td>\n",
              "      <td>10.0</td>\n",
              "      <td>2.924341</td>\n",
              "    </tr>\n",
              "    <tr>\n",
              "      <th>5</th>\n",
              "      <td>15.3</td>\n",
              "      <td>4.0</td>\n",
              "      <td>20.0</td>\n",
              "      <td>4.862893</td>\n",
              "    </tr>\n",
              "    <tr>\n",
              "      <th>8</th>\n",
              "      <td>7.7</td>\n",
              "      <td>5.0</td>\n",
              "      <td>1.0</td>\n",
              "      <td>2.603493</td>\n",
              "    </tr>\n",
              "  </tbody>\n",
              "</table>\n",
              "</div>\n",
              "      <button class=\"colab-df-convert\" onclick=\"convertToInteractive('df-74989ab3-7c27-41de-937b-39b2f24f92d9')\"\n",
              "              title=\"Convert this dataframe to an interactive table.\"\n",
              "              style=\"display:none;\">\n",
              "        \n",
              "  <svg xmlns=\"http://www.w3.org/2000/svg\" height=\"24px\"viewBox=\"0 0 24 24\"\n",
              "       width=\"24px\">\n",
              "    <path d=\"M0 0h24v24H0V0z\" fill=\"none\"/>\n",
              "    <path d=\"M18.56 5.44l.94 2.06.94-2.06 2.06-.94-2.06-.94-.94-2.06-.94 2.06-2.06.94zm-11 1L8.5 8.5l.94-2.06 2.06-.94-2.06-.94L8.5 2.5l-.94 2.06-2.06.94zm10 10l.94 2.06.94-2.06 2.06-.94-2.06-.94-.94-2.06-.94 2.06-2.06.94z\"/><path d=\"M17.41 7.96l-1.37-1.37c-.4-.4-.92-.59-1.43-.59-.52 0-1.04.2-1.43.59L10.3 9.45l-7.72 7.72c-.78.78-.78 2.05 0 2.83L4 21.41c.39.39.9.59 1.41.59.51 0 1.02-.2 1.41-.59l7.78-7.78 2.81-2.81c.8-.78.8-2.07 0-2.86zM5.41 20L4 18.59l7.72-7.72 1.47 1.35L5.41 20z\"/>\n",
              "  </svg>\n",
              "      </button>\n",
              "      \n",
              "  <style>\n",
              "    .colab-df-container {\n",
              "      display:flex;\n",
              "      flex-wrap:wrap;\n",
              "      gap: 12px;\n",
              "    }\n",
              "\n",
              "    .colab-df-convert {\n",
              "      background-color: #E8F0FE;\n",
              "      border: none;\n",
              "      border-radius: 50%;\n",
              "      cursor: pointer;\n",
              "      display: none;\n",
              "      fill: #1967D2;\n",
              "      height: 32px;\n",
              "      padding: 0 0 0 0;\n",
              "      width: 32px;\n",
              "    }\n",
              "\n",
              "    .colab-df-convert:hover {\n",
              "      background-color: #E2EBFA;\n",
              "      box-shadow: 0px 1px 2px rgba(60, 64, 67, 0.3), 0px 1px 3px 1px rgba(60, 64, 67, 0.15);\n",
              "      fill: #174EA6;\n",
              "    }\n",
              "\n",
              "    [theme=dark] .colab-df-convert {\n",
              "      background-color: #3B4455;\n",
              "      fill: #D2E3FC;\n",
              "    }\n",
              "\n",
              "    [theme=dark] .colab-df-convert:hover {\n",
              "      background-color: #434B5C;\n",
              "      box-shadow: 0px 1px 3px 1px rgba(0, 0, 0, 0.15);\n",
              "      filter: drop-shadow(0px 1px 2px rgba(0, 0, 0, 0.3));\n",
              "      fill: #FFFFFF;\n",
              "    }\n",
              "  </style>\n",
              "\n",
              "      <script>\n",
              "        const buttonEl =\n",
              "          document.querySelector('#df-74989ab3-7c27-41de-937b-39b2f24f92d9 button.colab-df-convert');\n",
              "        buttonEl.style.display =\n",
              "          google.colab.kernel.accessAllowed ? 'block' : 'none';\n",
              "\n",
              "        async function convertToInteractive(key) {\n",
              "          const element = document.querySelector('#df-74989ab3-7c27-41de-937b-39b2f24f92d9');\n",
              "          const dataTable =\n",
              "            await google.colab.kernel.invokeFunction('convertToInteractive',\n",
              "                                                     [key], {});\n",
              "          if (!dataTable) return;\n",
              "\n",
              "          const docLinkHtml = 'Like what you see? Visit the ' +\n",
              "            '<a target=\"_blank\" href=https://colab.research.google.com/notebooks/data_table.ipynb>data table notebook</a>'\n",
              "            + ' to learn more about interactive tables.';\n",
              "          element.innerHTML = '';\n",
              "          dataTable['output_type'] = 'display_data';\n",
              "          await google.colab.output.renderOutput(dataTable, element);\n",
              "          const docLink = document.createElement('div');\n",
              "          docLink.innerHTML = docLinkHtml;\n",
              "          element.appendChild(docLink);\n",
              "        }\n",
              "      </script>\n",
              "    </div>\n",
              "  </div>\n",
              "  "
            ]
          },
          "metadata": {},
          "execution_count": 21
        }
      ]
    },
    {
      "cell_type": "markdown",
      "source": [
        "This code computes the correlation matrix of the df DataFrame using the corr method and computes the correlation between the \"fare_amount\" column and the other columns in the DataFrame by selecting the \"fare_amount\" column from the correlation matrix using indexing and sorting the resulting Series in descending order.\n",
        "\n",
        "The corr method is used to compute the pairwise correlations between the columns of the DataFrame. The resulting object is a DataFrame with the same columns and rows as the original DataFrame, but with the values replaced by the corresponding correlation coefficients.\n",
        "\n",
        "The resulting correlation matrix is assigned to the variable coor_matrix, and the correlation between the \"fare_amount\" column and the other columns is computed by selecting the \"fare_amount\" column from the correlation matrix using coor_matrix[\"fare_amount\"]. The resulting object is a Series with the correlation coefficients between \"fare_amount\" and the other columns.\n",
        "\n",
        "The sort_values method is then used to sort the resulting Series in descending order based on the correlation coefficients, which allows us to see which features are most strongly correlated with \"fare_amount\". The resulting Series is displayed using the print function."
      ],
      "metadata": {
        "id": "4F45AJdvPVio"
      }
    },
    {
      "cell_type": "code",
      "source": [
        "# Check Correlation Again\n",
        "coor_matrix = df.corr()\n",
        "coor_matrix[\"fare_amount\"].sort_values(ascending=False)"
      ],
      "metadata": {
        "colab": {
          "base_uri": "https://localhost:8080/"
        },
        "id": "6eY8ep43J4f1",
        "outputId": "fad5d813-79fd-42b2-8997-f728e7b6b430"
      },
      "execution_count": 22,
      "outputs": [
        {
          "output_type": "execute_result",
          "data": {
            "text/plain": [
              "fare_amount    1.000000\n",
              "distance       0.045873\n",
              "day_of_week    0.009196\n",
              "pickup_time   -0.019722\n",
              "Name: fare_amount, dtype: float64"
            ]
          },
          "metadata": {},
          "execution_count": 22
        }
      ]
    },
    {
      "cell_type": "markdown",
      "source": [
        "The describe() method is used to generate descriptive statistics for the numerical columns in a DataFrame. It provides a summary of the central tendency, dispersion, and shape of the distribution of a dataset, excluding NaN values. Here is the result of running df.describe() on the df DataFrame:\n",
        "\n",
        "Here are the statistics provided for each column:\n",
        "\n",
        "- count: the number of non-missing values in the column.\n",
        "- mean: the arithmetic mean (average) of the values in the column.\n",
        "- std: the standard deviation of the values in the column.\n",
        "- min: the smallest value in the column.\n",
        "- 25%: the 25th percentile (first quartile) of the values in the column.\n",
        "- 50%: the 50th percentile (second quartile or median) of the values in the column.\n",
        "- 75%: the 75th percentile (third quartile) of the values in the column.\n",
        "- max: the largest value in the column.\n",
        "\n",
        "The describe() method is useful for getting a quick overview of the distribution of the data in a DataFrame."
      ],
      "metadata": {
        "id": "mRM_skd-PhG9"
      }
    },
    {
      "cell_type": "code",
      "source": [
        "df.describe()"
      ],
      "metadata": {
        "colab": {
          "base_uri": "https://localhost:8080/",
          "height": 300
        },
        "id": "SuD_vWJAJ_Od",
        "outputId": "fd8ca5d4-fbc5-4eb2-c37f-e5ae0ade683e"
      },
      "execution_count": 23,
      "outputs": [
        {
          "output_type": "execute_result",
          "data": {
            "text/plain": [
              "        fare_amount   day_of_week   pickup_time      distance\n",
              "count  38233.000000  38233.000000  38233.000000  38233.000000\n",
              "mean      11.214115      2.951534     13.387989     12.018397\n",
              "std        9.703149      1.932809      6.446519    217.357022\n",
              "min      -22.100000      0.000000      0.000000      0.000000\n",
              "25%        6.000000      1.000000      9.000000      0.762116\n",
              "50%        8.500000      3.000000     14.000000      1.331326\n",
              "75%       12.500000      5.000000     19.000000      2.402226\n",
              "max      256.000000      6.000000     23.000000   4923.837280"
            ],
            "text/html": [
              "\n",
              "  <div id=\"df-76654809-24bf-4c7a-acd5-b8c7416108cc\">\n",
              "    <div class=\"colab-df-container\">\n",
              "      <div>\n",
              "<style scoped>\n",
              "    .dataframe tbody tr th:only-of-type {\n",
              "        vertical-align: middle;\n",
              "    }\n",
              "\n",
              "    .dataframe tbody tr th {\n",
              "        vertical-align: top;\n",
              "    }\n",
              "\n",
              "    .dataframe thead th {\n",
              "        text-align: right;\n",
              "    }\n",
              "</style>\n",
              "<table border=\"1\" class=\"dataframe\">\n",
              "  <thead>\n",
              "    <tr style=\"text-align: right;\">\n",
              "      <th></th>\n",
              "      <th>fare_amount</th>\n",
              "      <th>day_of_week</th>\n",
              "      <th>pickup_time</th>\n",
              "      <th>distance</th>\n",
              "    </tr>\n",
              "  </thead>\n",
              "  <tbody>\n",
              "    <tr>\n",
              "      <th>count</th>\n",
              "      <td>38233.000000</td>\n",
              "      <td>38233.000000</td>\n",
              "      <td>38233.000000</td>\n",
              "      <td>38233.000000</td>\n",
              "    </tr>\n",
              "    <tr>\n",
              "      <th>mean</th>\n",
              "      <td>11.214115</td>\n",
              "      <td>2.951534</td>\n",
              "      <td>13.387989</td>\n",
              "      <td>12.018397</td>\n",
              "    </tr>\n",
              "    <tr>\n",
              "      <th>std</th>\n",
              "      <td>9.703149</td>\n",
              "      <td>1.932809</td>\n",
              "      <td>6.446519</td>\n",
              "      <td>217.357022</td>\n",
              "    </tr>\n",
              "    <tr>\n",
              "      <th>min</th>\n",
              "      <td>-22.100000</td>\n",
              "      <td>0.000000</td>\n",
              "      <td>0.000000</td>\n",
              "      <td>0.000000</td>\n",
              "    </tr>\n",
              "    <tr>\n",
              "      <th>25%</th>\n",
              "      <td>6.000000</td>\n",
              "      <td>1.000000</td>\n",
              "      <td>9.000000</td>\n",
              "      <td>0.762116</td>\n",
              "    </tr>\n",
              "    <tr>\n",
              "      <th>50%</th>\n",
              "      <td>8.500000</td>\n",
              "      <td>3.000000</td>\n",
              "      <td>14.000000</td>\n",
              "      <td>1.331326</td>\n",
              "    </tr>\n",
              "    <tr>\n",
              "      <th>75%</th>\n",
              "      <td>12.500000</td>\n",
              "      <td>5.000000</td>\n",
              "      <td>19.000000</td>\n",
              "      <td>2.402226</td>\n",
              "    </tr>\n",
              "    <tr>\n",
              "      <th>max</th>\n",
              "      <td>256.000000</td>\n",
              "      <td>6.000000</td>\n",
              "      <td>23.000000</td>\n",
              "      <td>4923.837280</td>\n",
              "    </tr>\n",
              "  </tbody>\n",
              "</table>\n",
              "</div>\n",
              "      <button class=\"colab-df-convert\" onclick=\"convertToInteractive('df-76654809-24bf-4c7a-acd5-b8c7416108cc')\"\n",
              "              title=\"Convert this dataframe to an interactive table.\"\n",
              "              style=\"display:none;\">\n",
              "        \n",
              "  <svg xmlns=\"http://www.w3.org/2000/svg\" height=\"24px\"viewBox=\"0 0 24 24\"\n",
              "       width=\"24px\">\n",
              "    <path d=\"M0 0h24v24H0V0z\" fill=\"none\"/>\n",
              "    <path d=\"M18.56 5.44l.94 2.06.94-2.06 2.06-.94-2.06-.94-.94-2.06-.94 2.06-2.06.94zm-11 1L8.5 8.5l.94-2.06 2.06-.94-2.06-.94L8.5 2.5l-.94 2.06-2.06.94zm10 10l.94 2.06.94-2.06 2.06-.94-2.06-.94-.94-2.06-.94 2.06-2.06.94z\"/><path d=\"M17.41 7.96l-1.37-1.37c-.4-.4-.92-.59-1.43-.59-.52 0-1.04.2-1.43.59L10.3 9.45l-7.72 7.72c-.78.78-.78 2.05 0 2.83L4 21.41c.39.39.9.59 1.41.59.51 0 1.02-.2 1.41-.59l7.78-7.78 2.81-2.81c.8-.78.8-2.07 0-2.86zM5.41 20L4 18.59l7.72-7.72 1.47 1.35L5.41 20z\"/>\n",
              "  </svg>\n",
              "      </button>\n",
              "      \n",
              "  <style>\n",
              "    .colab-df-container {\n",
              "      display:flex;\n",
              "      flex-wrap:wrap;\n",
              "      gap: 12px;\n",
              "    }\n",
              "\n",
              "    .colab-df-convert {\n",
              "      background-color: #E8F0FE;\n",
              "      border: none;\n",
              "      border-radius: 50%;\n",
              "      cursor: pointer;\n",
              "      display: none;\n",
              "      fill: #1967D2;\n",
              "      height: 32px;\n",
              "      padding: 0 0 0 0;\n",
              "      width: 32px;\n",
              "    }\n",
              "\n",
              "    .colab-df-convert:hover {\n",
              "      background-color: #E2EBFA;\n",
              "      box-shadow: 0px 1px 2px rgba(60, 64, 67, 0.3), 0px 1px 3px 1px rgba(60, 64, 67, 0.15);\n",
              "      fill: #174EA6;\n",
              "    }\n",
              "\n",
              "    [theme=dark] .colab-df-convert {\n",
              "      background-color: #3B4455;\n",
              "      fill: #D2E3FC;\n",
              "    }\n",
              "\n",
              "    [theme=dark] .colab-df-convert:hover {\n",
              "      background-color: #434B5C;\n",
              "      box-shadow: 0px 1px 3px 1px rgba(0, 0, 0, 0.15);\n",
              "      filter: drop-shadow(0px 1px 2px rgba(0, 0, 0, 0.3));\n",
              "      fill: #FFFFFF;\n",
              "    }\n",
              "  </style>\n",
              "\n",
              "      <script>\n",
              "        const buttonEl =\n",
              "          document.querySelector('#df-76654809-24bf-4c7a-acd5-b8c7416108cc button.colab-df-convert');\n",
              "        buttonEl.style.display =\n",
              "          google.colab.kernel.accessAllowed ? 'block' : 'none';\n",
              "\n",
              "        async function convertToInteractive(key) {\n",
              "          const element = document.querySelector('#df-76654809-24bf-4c7a-acd5-b8c7416108cc');\n",
              "          const dataTable =\n",
              "            await google.colab.kernel.invokeFunction('convertToInteractive',\n",
              "                                                     [key], {});\n",
              "          if (!dataTable) return;\n",
              "\n",
              "          const docLinkHtml = 'Like what you see? Visit the ' +\n",
              "            '<a target=\"_blank\" href=https://colab.research.google.com/notebooks/data_table.ipynb>data table notebook</a>'\n",
              "            + ' to learn more about interactive tables.';\n",
              "          element.innerHTML = '';\n",
              "          dataTable['output_type'] = 'display_data';\n",
              "          await google.colab.output.renderOutput(dataTable, element);\n",
              "          const docLink = document.createElement('div');\n",
              "          docLink.innerHTML = docLinkHtml;\n",
              "          element.appendChild(docLink);\n",
              "        }\n",
              "      </script>\n",
              "    </div>\n",
              "  </div>\n",
              "  "
            ]
          },
          "metadata": {},
          "execution_count": 23
        }
      ]
    },
    {
      "cell_type": "markdown",
      "source": [
        "This dataset contains outliers, and outliers frequently skew the results of machine learning models.\n",
        "\n",
        "Filter the dataset by eliminating negative fare amounts and placing resonable limits on fares and distance, and then run the coorelation again."
      ],
      "metadata": {
        "id": "G83zoSVIKItu"
      }
    },
    {
      "cell_type": "code",
      "source": [
        "df = df[(df[\"distance\"] > 1.0) & (df[\"distance\"] < 10.0)]\n",
        "df = df[(df[\"fare_amount\"] > 0.0) & (df[\"fare_amount\"] < 50.0)]\n",
        "\n",
        "# Check Correlation Again\n",
        "coor_matrix = df.corr()\n",
        "coor_matrix[\"fare_amount\"].sort_values(ascending=False)"
      ],
      "metadata": {
        "colab": {
          "base_uri": "https://localhost:8080/"
        },
        "id": "mGskqN0sKB8t",
        "outputId": "c54eade1-35da-4ec4-e661-34accaa340ab"
      },
      "execution_count": 24,
      "outputs": [
        {
          "output_type": "execute_result",
          "data": {
            "text/plain": [
              "fare_amount    1.000000\n",
              "distance       0.851913\n",
              "day_of_week   -0.003570\n",
              "pickup_time   -0.023085\n",
              "Name: fare_amount, dtype: float64"
            ]
          },
          "metadata": {},
          "execution_count": 24
        }
      ]
    },
    {
      "cell_type": "markdown",
      "source": [
        "This code defines x and y as the feature and target columns of the dataset df, respectively. Specifically, x is created by dropping the fare_amount column using the drop() method of the pandas DataFrame object, and y is set to the fare_amount column.\n",
        "\n",
        "Afterwards, a LinearRegression object is instantiated as model. Finally, cross_val_score() is called with the model, x, y, and cv=5 as arguments. This function performs 5-fold cross-validation and returns an array of scores, one for each fold. The mean() method is called on this array to compute the average score across all folds."
      ],
      "metadata": {
        "id": "mMN3hCNQQM1r"
      }
    },
    {
      "cell_type": "code",
      "source": [
        "x = df.drop([\"fare_amount\"], axis=1)\n",
        "y = df[\"fare_amount\"]\n",
        "model = LinearRegression()\n",
        "cross_val_score(model, x, y, cv=5).mean()"
      ],
      "metadata": {
        "colab": {
          "base_uri": "https://localhost:8080/"
        },
        "id": "v3U-RQJgKtdU",
        "outputId": "b9c3c67f-80b1-4a1b-9fcc-416afe937b05"
      },
      "execution_count": 25,
      "outputs": [
        {
          "output_type": "execute_result",
          "data": {
            "text/plain": [
              "0.7258845061910318"
            ]
          },
          "metadata": {},
          "execution_count": 25
        }
      ]
    },
    {
      "cell_type": "markdown",
      "source": [
        "This code defines model as a RandomForestRegressor object with a random_state of 0. It then uses cross_val_score() to perform 5-fold cross-validation on the data x and y using the model with cv=5 and computes the average score across all folds with mean().\n",
        "\n",
        "Since this is a regression problem, the score is the R-squared (coefficient of determination) value, which measures the proportion of the variance in the target variable (y) that is predictable from the features (x). A higher R-squared value indicates a better fit of the model to the data."
      ],
      "metadata": {
        "id": "4Q-0_6OWQWWa"
      }
    },
    {
      "cell_type": "code",
      "source": [
        "from sklearn.ensemble import RandomForestRegressor\n",
        "model = RandomForestRegressor(random_state=0)\n",
        "cross_val_score(model, x, y, cv=5).mean()"
      ],
      "metadata": {
        "colab": {
          "base_uri": "https://localhost:8080/"
        },
        "id": "pLq0xdGSK_i3",
        "outputId": "0a9d77f7-7215-43a6-b449-c03aec322bd0"
      },
      "execution_count": 26,
      "outputs": [
        {
          "output_type": "execute_result",
          "data": {
            "text/plain": [
              "0.706157807448991"
            ]
          },
          "metadata": {},
          "execution_count": 26
        }
      ]
    }
  ]
}